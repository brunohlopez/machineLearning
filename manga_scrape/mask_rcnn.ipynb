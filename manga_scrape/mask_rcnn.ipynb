{
 "cells": [
  {
   "cell_type": "code",
   "execution_count": 1,
   "metadata": {},
   "outputs": [],
   "source": [
    "import mrcnn.utils\n",
    "import mrcnn.config\n",
    "import mrcnn.model\n",
    "import os\n",
    "import random\n",
    "import xml.etree.ElementTree as ET\n",
    "import xml\n",
    "import numpy as np\n",
    "\n",
    "\n",
    "from os import listdir\n",
    "from os.path import isfile, join"
   ]
  },
  {
   "cell_type": "code",
   "execution_count": 31,
   "metadata": {},
   "outputs": [],
   "source": [
    "class komiDataSet(mrcnn.utils.Dataset):\n",
    "\n",
    "    def load_dataset(self, is_train = True):\n",
    "        self.add_class(\"dataset\", 1, 'face')\n",
    "\n",
    "        images_dir = r'C:\\Users\\brunolopez\\Downloads\\komi_analysis_pascal\\JPEGImages'\n",
    "        annotations_dir = r'C:\\Users\\brunolopez\\Downloads\\komi_analysis_pascal\\Annotations'\n",
    "\n",
    "        files = [file for file in os.listdir(images_dir)]\n",
    "        random.shuffle(files) #randomly shuffle the files\n",
    "\n",
    "        #Get the length of the files and navigate 80 percent for training\n",
    "        split = 0.7    \n",
    "        split_index = int(np.floor(len(files) * split))\n",
    "        \n",
    "        if is_train:\n",
    "            files = files[:split_index]\n",
    "        else:\n",
    "            files = files[split_index:]\n",
    "\n",
    "        for filename in files:\n",
    "            image_id = filename.split('.jpg')[0] #split at the\n",
    "            #contruct the image path \n",
    "            img_path =  images_dir + '/' + filename\n",
    "            ann_path = annotations_dir + '/' +image_id + '.xml'\n",
    "\n",
    "            self.add_image('dataset', image_id = image_id, path = img_path, annotation = ann_path)\n",
    "\n",
    "    def extract_boxes(self, filename):\n",
    "\t    tree = xml.etree.ElementTree.parse(filename)\n",
    "\n",
    "\t    root = tree.getroot()\n",
    "\n",
    "\t    boxes = list()\n",
    "\t    for box in root.findall('.//bndbox'):\n",
    "\t\t    xmin = int(float(box.find('xmin').text))\n",
    "\t\t    ymin = int(float(box.find('ymin').text))\n",
    "\t\t    xmax = int(float(box.find('xmax').text))\n",
    "\t\t    ymax = int(float(box.find('ymax').text))\n",
    "\t\t    coors = [xmin, ymin, xmax, ymax]\n",
    "\t\t    boxes.append(coors)\n",
    "\n",
    "\t    width = int(root.find('.//size/width').text)\n",
    "\t    height = int(root.find('.//size/height').text)\n",
    "\t    return boxes, width, height\n",
    "    \n",
    "    def load_mask(self, image_id):\n",
    "\t    info = self.image_info[image_id]\n",
    "\t    path = info['annotation']\n",
    "\t    boxes, w, h = self.extract_boxes(path)\n",
    "\t    masks = np.zeros([h, w, len(boxes)], dtype='uint8')\n",
    "\t    class_ids = list()\n",
    "\t    for i in range(len(boxes)):\n",
    "\t\t    box = boxes[i]\n",
    "\t\t    row_s, row_e = box[1], box[3]\n",
    "\t\t    col_s, col_e = box[0], box[2]\n",
    "\t\t    masks[row_s:row_e, col_s:col_e, i] = 1\n",
    "\t\t    class_ids.append(self.class_names.index('face'))\n",
    "\t    return masks, np.asarray(class_ids, dtype='int32')"
   ]
  },
  {
   "cell_type": "code",
   "execution_count": 33,
   "metadata": {},
   "outputs": [],
   "source": [
    "train_set = komiDataSet()\n",
    "train_set.load_dataset(is_train=True)\n",
    "train_set.prepare()"
   ]
  },
  {
   "cell_type": "code",
   "execution_count": 34,
   "metadata": {},
   "outputs": [],
   "source": [
    "valid_dataset = komiDataSet()\n",
    "valid_dataset.load_dataset(is_train=False)\n",
    "valid_dataset.prepare()"
   ]
  },
  {
   "cell_type": "code",
   "execution_count": 35,
   "metadata": {},
   "outputs": [],
   "source": [
    "class KomiConfig(mrcnn.config.Config):\n",
    "    NAME = \"komi_cfg\"\n",
    "\n",
    "    GPU_COUNT = 1\n",
    "    IMAGES_PER_GPU = 1\n",
    "    \n",
    "    NUM_CLASSES = 2\n",
    "\n",
    "    STEPS_PER_EPOCH = 131"
   ]
  },
  {
   "cell_type": "code",
   "execution_count": 36,
   "metadata": {},
   "outputs": [],
   "source": [
    "model = mrcnn.model.MaskRCNN(mode='training', \n",
    "                             model_dir= r'C:\\Users\\brunolopez\\mldata\\manga_scrape\\komi_weights', \n",
    "                             config= KomiConfig())"
   ]
  },
  {
   "cell_type": "code",
   "execution_count": 37,
   "metadata": {},
   "outputs": [],
   "source": [
    "coco_model = r'C:\\Users\\brunolopez\\mldata\\manga_scrape\\mask_rcnn_coco.h5'"
   ]
  },
  {
   "cell_type": "code",
   "execution_count": 38,
   "metadata": {},
   "outputs": [],
   "source": [
    "model.load_weights(filepath=coco_model, \n",
    "                   by_name=True, \n",
    "                   exclude=[\"mrcnn_class_logits\", \"mrcnn_bbox_fc\",  \"mrcnn_bbox\", \"mrcnn_mask\"])"
   ]
  },
  {
   "cell_type": "code",
   "execution_count": 39,
   "metadata": {},
   "outputs": [
    {
     "name": "stderr",
     "output_type": "stream",
     "text": [
      "WARNING:absl:`lr` is deprecated, please use `learning_rate` instead, or use the legacy optimizer, e.g.,tf.keras.optimizers.legacy.SGD.\n"
     ]
    },
    {
     "name": "stdout",
     "output_type": "stream",
     "text": [
      "\n",
      "Starting at epoch 0. LR=0.001\n",
      "\n",
      "Checkpoint Path: C:\\Users\\brunolopez\\mldata\\manga_scrape\\komi_weights\\komi_cfg20230228T0137\\mask_rcnn_komi_cfg_{epoch:04d}.h5\n",
      "Selecting layers to train\n",
      "fpn_c5p5               (Conv2D)\n",
      "fpn_c4p4               (Conv2D)\n",
      "fpn_c3p3               (Conv2D)\n",
      "fpn_c2p2               (Conv2D)\n",
      "fpn_p5                 (Conv2D)\n",
      "fpn_p2                 (Conv2D)\n",
      "fpn_p3                 (Conv2D)\n",
      "fpn_p4                 (Conv2D)\n",
      "rpn_model              (Functional)\n",
      "mrcnn_mask_conv1       (TimeDistributed)\n",
      "mrcnn_mask_bn1         (TimeDistributed)\n",
      "mrcnn_mask_conv2       (TimeDistributed)\n",
      "mrcnn_mask_bn2         (TimeDistributed)\n",
      "mrcnn_class_conv1      (TimeDistributed)\n",
      "mrcnn_class_bn1        (TimeDistributed)\n",
      "mrcnn_mask_conv3       (TimeDistributed)\n",
      "mrcnn_mask_bn3         (TimeDistributed)\n",
      "mrcnn_class_conv2      (TimeDistributed)\n",
      "mrcnn_class_bn2        (TimeDistributed)\n",
      "mrcnn_mask_conv4       (TimeDistributed)\n",
      "mrcnn_mask_bn4         (TimeDistributed)\n",
      "mrcnn_bbox_fc          (TimeDistributed)\n",
      "mrcnn_mask_deconv      (TimeDistributed)\n",
      "mrcnn_class_logits     (TimeDistributed)\n",
      "mrcnn_mask             (TimeDistributed)\n",
      "Epoch 1/10\n"
     ]
    },
    {
     "ename": "ValueError",
     "evalue": "Input image dtype is bool. Interpolation is not defined with bool data type. Please set order to 0 or explicitely cast input image to another data type.",
     "output_type": "error",
     "traceback": [
      "\u001b[1;31m---------------------------------------------------------------------------\u001b[0m",
      "\u001b[1;31mValueError\u001b[0m                                Traceback (most recent call last)",
      "Cell \u001b[1;32mIn[39], line 1\u001b[0m\n\u001b[1;32m----> 1\u001b[0m model\u001b[39m.\u001b[39;49mtrain(train_dataset\u001b[39m=\u001b[39;49mtrain_set, \n\u001b[0;32m      2\u001b[0m             val_dataset\u001b[39m=\u001b[39;49mvalid_dataset, \n\u001b[0;32m      3\u001b[0m             learning_rate\u001b[39m=\u001b[39;49mKomiConfig()\u001b[39m.\u001b[39;49mLEARNING_RATE, \n\u001b[0;32m      4\u001b[0m             epochs\u001b[39m=\u001b[39;49m\u001b[39m10\u001b[39;49m, \n\u001b[0;32m      5\u001b[0m             layers\u001b[39m=\u001b[39;49m\u001b[39m'\u001b[39;49m\u001b[39mheads\u001b[39;49m\u001b[39m'\u001b[39;49m)\n",
      "File \u001b[1;32mc:\\Users\\brunolopez\\anaconda3\\envs\\maskrcnn\\lib\\site-packages\\mask_rcnn-2.1-py3.9.egg\\mrcnn\\model.py:2364\u001b[0m, in \u001b[0;36mMaskRCNN.train\u001b[1;34m(self, train_dataset, val_dataset, learning_rate, epochs, layers, augmentation, custom_callbacks, no_augmentation_sources)\u001b[0m\n\u001b[0;32m   2361\u001b[0m \u001b[39melse\u001b[39;00m:\n\u001b[0;32m   2362\u001b[0m     workers \u001b[39m=\u001b[39m multiprocessing\u001b[39m.\u001b[39mcpu_count()\n\u001b[1;32m-> 2364\u001b[0m \u001b[39mself\u001b[39;49m\u001b[39m.\u001b[39;49mkeras_model\u001b[39m.\u001b[39;49mfit(\n\u001b[0;32m   2365\u001b[0m     train_generator,\n\u001b[0;32m   2366\u001b[0m     initial_epoch\u001b[39m=\u001b[39;49m\u001b[39mself\u001b[39;49m\u001b[39m.\u001b[39;49mepoch,\n\u001b[0;32m   2367\u001b[0m     epochs\u001b[39m=\u001b[39;49mepochs,\n\u001b[0;32m   2368\u001b[0m     steps_per_epoch\u001b[39m=\u001b[39;49m\u001b[39mself\u001b[39;49m\u001b[39m.\u001b[39;49mconfig\u001b[39m.\u001b[39;49mSTEPS_PER_EPOCH,\n\u001b[0;32m   2369\u001b[0m     callbacks\u001b[39m=\u001b[39;49mcallbacks,\n\u001b[0;32m   2370\u001b[0m     validation_data\u001b[39m=\u001b[39;49mval_generator,\n\u001b[0;32m   2371\u001b[0m     validation_steps\u001b[39m=\u001b[39;49m\u001b[39mself\u001b[39;49m\u001b[39m.\u001b[39;49mconfig\u001b[39m.\u001b[39;49mVALIDATION_STEPS,\n\u001b[0;32m   2372\u001b[0m     max_queue_size\u001b[39m=\u001b[39;49m\u001b[39m100\u001b[39;49m,\n\u001b[0;32m   2373\u001b[0m     workers\u001b[39m=\u001b[39;49mworkers,\n\u001b[0;32m   2374\u001b[0m     use_multiprocessing\u001b[39m=\u001b[39;49mworkers \u001b[39m>\u001b[39;49m \u001b[39m1\u001b[39;49m,\n\u001b[0;32m   2375\u001b[0m )\n\u001b[0;32m   2376\u001b[0m \u001b[39mself\u001b[39m\u001b[39m.\u001b[39mepoch \u001b[39m=\u001b[39m \u001b[39mmax\u001b[39m(\u001b[39mself\u001b[39m\u001b[39m.\u001b[39mepoch, epochs)\n",
      "File \u001b[1;32mc:\\Users\\brunolopez\\anaconda3\\envs\\maskrcnn\\lib\\site-packages\\keras\\engine\\training_v1.py:854\u001b[0m, in \u001b[0;36mModel.fit\u001b[1;34m(self, x, y, batch_size, epochs, verbose, callbacks, validation_split, validation_data, shuffle, class_weight, sample_weight, initial_epoch, steps_per_epoch, validation_steps, validation_freq, max_queue_size, workers, use_multiprocessing, **kwargs)\u001b[0m\n\u001b[0;32m    851\u001b[0m \u001b[39mself\u001b[39m\u001b[39m.\u001b[39m_check_call_args(\u001b[39m\"\u001b[39m\u001b[39mfit\u001b[39m\u001b[39m\"\u001b[39m)\n\u001b[0;32m    853\u001b[0m func \u001b[39m=\u001b[39m \u001b[39mself\u001b[39m\u001b[39m.\u001b[39m_select_training_loop(x)\n\u001b[1;32m--> 854\u001b[0m \u001b[39mreturn\u001b[39;00m func\u001b[39m.\u001b[39;49mfit(\n\u001b[0;32m    855\u001b[0m     \u001b[39mself\u001b[39;49m,\n\u001b[0;32m    856\u001b[0m     x\u001b[39m=\u001b[39;49mx,\n\u001b[0;32m    857\u001b[0m     y\u001b[39m=\u001b[39;49my,\n\u001b[0;32m    858\u001b[0m     batch_size\u001b[39m=\u001b[39;49mbatch_size,\n\u001b[0;32m    859\u001b[0m     epochs\u001b[39m=\u001b[39;49mepochs,\n\u001b[0;32m    860\u001b[0m     verbose\u001b[39m=\u001b[39;49mverbose,\n\u001b[0;32m    861\u001b[0m     callbacks\u001b[39m=\u001b[39;49mcallbacks,\n\u001b[0;32m    862\u001b[0m     validation_split\u001b[39m=\u001b[39;49mvalidation_split,\n\u001b[0;32m    863\u001b[0m     validation_data\u001b[39m=\u001b[39;49mvalidation_data,\n\u001b[0;32m    864\u001b[0m     shuffle\u001b[39m=\u001b[39;49mshuffle,\n\u001b[0;32m    865\u001b[0m     class_weight\u001b[39m=\u001b[39;49mclass_weight,\n\u001b[0;32m    866\u001b[0m     sample_weight\u001b[39m=\u001b[39;49msample_weight,\n\u001b[0;32m    867\u001b[0m     initial_epoch\u001b[39m=\u001b[39;49minitial_epoch,\n\u001b[0;32m    868\u001b[0m     steps_per_epoch\u001b[39m=\u001b[39;49msteps_per_epoch,\n\u001b[0;32m    869\u001b[0m     validation_steps\u001b[39m=\u001b[39;49mvalidation_steps,\n\u001b[0;32m    870\u001b[0m     validation_freq\u001b[39m=\u001b[39;49mvalidation_freq,\n\u001b[0;32m    871\u001b[0m     max_queue_size\u001b[39m=\u001b[39;49mmax_queue_size,\n\u001b[0;32m    872\u001b[0m     workers\u001b[39m=\u001b[39;49mworkers,\n\u001b[0;32m    873\u001b[0m     use_multiprocessing\u001b[39m=\u001b[39;49muse_multiprocessing,\n\u001b[0;32m    874\u001b[0m )\n",
      "File \u001b[1;32mc:\\Users\\brunolopez\\anaconda3\\envs\\maskrcnn\\lib\\site-packages\\keras\\engine\\training_generator_v1.py:647\u001b[0m, in \u001b[0;36mGeneratorOrSequenceTrainingLoop.fit\u001b[1;34m(self, model, x, y, batch_size, epochs, verbose, callbacks, validation_split, validation_data, shuffle, class_weight, sample_weight, initial_epoch, steps_per_epoch, validation_steps, validation_freq, max_queue_size, workers, use_multiprocessing)\u001b[0m\n\u001b[0;32m    643\u001b[0m model\u001b[39m.\u001b[39m_validate_or_infer_batch_size(batch_size, steps_per_epoch, x)\n\u001b[0;32m    644\u001b[0m training_utils_v1\u001b[39m.\u001b[39mcheck_generator_arguments(\n\u001b[0;32m    645\u001b[0m     y, sample_weight, validation_split\u001b[39m=\u001b[39mvalidation_split\n\u001b[0;32m    646\u001b[0m )\n\u001b[1;32m--> 647\u001b[0m \u001b[39mreturn\u001b[39;00m fit_generator(\n\u001b[0;32m    648\u001b[0m     model,\n\u001b[0;32m    649\u001b[0m     x,\n\u001b[0;32m    650\u001b[0m     steps_per_epoch\u001b[39m=\u001b[39;49msteps_per_epoch,\n\u001b[0;32m    651\u001b[0m     epochs\u001b[39m=\u001b[39;49mepochs,\n\u001b[0;32m    652\u001b[0m     verbose\u001b[39m=\u001b[39;49mverbose,\n\u001b[0;32m    653\u001b[0m     callbacks\u001b[39m=\u001b[39;49mcallbacks,\n\u001b[0;32m    654\u001b[0m     validation_data\u001b[39m=\u001b[39;49mvalidation_data,\n\u001b[0;32m    655\u001b[0m     validation_steps\u001b[39m=\u001b[39;49mvalidation_steps,\n\u001b[0;32m    656\u001b[0m     validation_freq\u001b[39m=\u001b[39;49mvalidation_freq,\n\u001b[0;32m    657\u001b[0m     class_weight\u001b[39m=\u001b[39;49mclass_weight,\n\u001b[0;32m    658\u001b[0m     max_queue_size\u001b[39m=\u001b[39;49mmax_queue_size,\n\u001b[0;32m    659\u001b[0m     workers\u001b[39m=\u001b[39;49mworkers,\n\u001b[0;32m    660\u001b[0m     use_multiprocessing\u001b[39m=\u001b[39;49muse_multiprocessing,\n\u001b[0;32m    661\u001b[0m     shuffle\u001b[39m=\u001b[39;49mshuffle,\n\u001b[0;32m    662\u001b[0m     initial_epoch\u001b[39m=\u001b[39;49minitial_epoch,\n\u001b[0;32m    663\u001b[0m     steps_name\u001b[39m=\u001b[39;49m\u001b[39m\"\u001b[39;49m\u001b[39msteps_per_epoch\u001b[39;49m\u001b[39m\"\u001b[39;49m,\n\u001b[0;32m    664\u001b[0m )\n",
      "File \u001b[1;32mc:\\Users\\brunolopez\\anaconda3\\envs\\maskrcnn\\lib\\site-packages\\keras\\engine\\training_generator_v1.py:239\u001b[0m, in \u001b[0;36mmodel_iteration\u001b[1;34m(model, data, steps_per_epoch, epochs, verbose, callbacks, validation_data, validation_steps, validation_freq, class_weight, max_queue_size, workers, use_multiprocessing, shuffle, initial_epoch, mode, batch_size, steps_name, **kwargs)\u001b[0m\n\u001b[0;32m    237\u001b[0m step \u001b[39m=\u001b[39m \u001b[39m0\u001b[39m\n\u001b[0;32m    238\u001b[0m \u001b[39mwhile\u001b[39;00m step \u001b[39m<\u001b[39m target_steps:\n\u001b[1;32m--> 239\u001b[0m     batch_data \u001b[39m=\u001b[39m _get_next_batch(generator)\n\u001b[0;32m    240\u001b[0m     \u001b[39mif\u001b[39;00m batch_data \u001b[39mis\u001b[39;00m \u001b[39mNone\u001b[39;00m:\n\u001b[0;32m    241\u001b[0m         \u001b[39mif\u001b[39;00m is_dataset:\n\u001b[0;32m    242\u001b[0m             \u001b[39m# The dataset passed by the user ran out of batches.  Now we\u001b[39;00m\n\u001b[0;32m    243\u001b[0m             \u001b[39m# know the cardinality of the dataset.  If steps_per_epoch\u001b[39;00m\n\u001b[0;32m    244\u001b[0m             \u001b[39m# was specified, then running out of data is unexpected, so\u001b[39;00m\n\u001b[0;32m    245\u001b[0m             \u001b[39m# we stop training and inform the user.\u001b[39;00m\n",
      "File \u001b[1;32mc:\\Users\\brunolopez\\anaconda3\\envs\\maskrcnn\\lib\\site-packages\\keras\\engine\\training_generator_v1.py:388\u001b[0m, in \u001b[0;36m_get_next_batch\u001b[1;34m(generator)\u001b[0m\n\u001b[0;32m    386\u001b[0m \u001b[39m\u001b[39m\u001b[39m\"\"\"Retrieves the next batch of input data.\"\"\"\u001b[39;00m\n\u001b[0;32m    387\u001b[0m \u001b[39mtry\u001b[39;00m:\n\u001b[1;32m--> 388\u001b[0m     generator_output \u001b[39m=\u001b[39m \u001b[39mnext\u001b[39;49m(generator)\n\u001b[0;32m    389\u001b[0m \u001b[39mexcept\u001b[39;00m (\u001b[39mStopIteration\u001b[39;00m, tf\u001b[39m.\u001b[39merrors\u001b[39m.\u001b[39mOutOfRangeError):\n\u001b[0;32m    390\u001b[0m     \u001b[39mreturn\u001b[39;00m \u001b[39mNone\u001b[39;00m\n",
      "File \u001b[1;32mc:\\Users\\brunolopez\\anaconda3\\envs\\maskrcnn\\lib\\site-packages\\keras\\utils\\data_utils.py:533\u001b[0m, in \u001b[0;36miter_sequence_infinite\u001b[1;34m(seq)\u001b[0m\n\u001b[0;32m    524\u001b[0m \u001b[39m\u001b[39m\u001b[39m\"\"\"Iterates indefinitely over a Sequence.\u001b[39;00m\n\u001b[0;32m    525\u001b[0m \n\u001b[0;32m    526\u001b[0m \u001b[39mArgs:\u001b[39;00m\n\u001b[1;32m   (...)\u001b[0m\n\u001b[0;32m    530\u001b[0m \u001b[39m  Batches of data from the `Sequence`.\u001b[39;00m\n\u001b[0;32m    531\u001b[0m \u001b[39m\"\"\"\u001b[39;00m\n\u001b[0;32m    532\u001b[0m \u001b[39mwhile\u001b[39;00m \u001b[39mTrue\u001b[39;00m:\n\u001b[1;32m--> 533\u001b[0m     \u001b[39mfor\u001b[39;00m item \u001b[39min\u001b[39;00m seq:\n\u001b[0;32m    534\u001b[0m         \u001b[39myield\u001b[39;00m item\n",
      "File \u001b[1;32mc:\\Users\\brunolopez\\anaconda3\\envs\\maskrcnn\\lib\\site-packages\\keras\\utils\\data_utils.py:519\u001b[0m, in \u001b[0;36mSequence.__iter__\u001b[1;34m(self)\u001b[0m\n\u001b[0;32m    517\u001b[0m \u001b[39mdef\u001b[39;00m \u001b[39m__iter__\u001b[39m(\u001b[39mself\u001b[39m):\n\u001b[0;32m    518\u001b[0m \u001b[39m    \u001b[39m\u001b[39m\"\"\"Create a generator that iterate over the Sequence.\"\"\"\u001b[39;00m\n\u001b[1;32m--> 519\u001b[0m     \u001b[39mfor\u001b[39;00m item \u001b[39min\u001b[39;00m (\u001b[39mself\u001b[39m[i] \u001b[39mfor\u001b[39;00m i \u001b[39min\u001b[39;00m \u001b[39mrange\u001b[39m(\u001b[39mlen\u001b[39m(\u001b[39mself\u001b[39m))):\n\u001b[0;32m    520\u001b[0m         \u001b[39myield\u001b[39;00m item\n",
      "File \u001b[1;32mc:\\Users\\brunolopez\\anaconda3\\envs\\maskrcnn\\lib\\site-packages\\keras\\utils\\data_utils.py:519\u001b[0m, in \u001b[0;36m<genexpr>\u001b[1;34m(.0)\u001b[0m\n\u001b[0;32m    517\u001b[0m \u001b[39mdef\u001b[39;00m \u001b[39m__iter__\u001b[39m(\u001b[39mself\u001b[39m):\n\u001b[0;32m    518\u001b[0m \u001b[39m    \u001b[39m\u001b[39m\"\"\"Create a generator that iterate over the Sequence.\"\"\"\u001b[39;00m\n\u001b[1;32m--> 519\u001b[0m     \u001b[39mfor\u001b[39;00m item \u001b[39min\u001b[39;00m (\u001b[39mself\u001b[39;49m[i] \u001b[39mfor\u001b[39;00m i \u001b[39min\u001b[39;00m \u001b[39mrange\u001b[39m(\u001b[39mlen\u001b[39m(\u001b[39mself\u001b[39m))):\n\u001b[0;32m    520\u001b[0m         \u001b[39myield\u001b[39;00m item\n",
      "File \u001b[1;32mc:\\Users\\brunolopez\\anaconda3\\envs\\maskrcnn\\lib\\site-packages\\mask_rcnn-2.1-py3.9.egg\\mrcnn\\model.py:1720\u001b[0m, in \u001b[0;36mDataGenerator.__getitem__\u001b[1;34m(self, idx)\u001b[0m\n\u001b[0;32m   1717\u001b[0m \u001b[39m# Get GT bounding boxes and masks for image.\u001b[39;00m\n\u001b[0;32m   1718\u001b[0m image_id \u001b[39m=\u001b[39m \u001b[39mself\u001b[39m\u001b[39m.\u001b[39mimage_ids[image_index]\n\u001b[0;32m   1719\u001b[0m image, image_meta, gt_class_ids, gt_boxes, gt_masks \u001b[39m=\u001b[39m \\\n\u001b[1;32m-> 1720\u001b[0m     load_image_gt(\u001b[39mself\u001b[39;49m\u001b[39m.\u001b[39;49mdataset, \u001b[39mself\u001b[39;49m\u001b[39m.\u001b[39;49mconfig, image_id,\n\u001b[0;32m   1721\u001b[0m                   augmentation\u001b[39m=\u001b[39;49m\u001b[39mself\u001b[39;49m\u001b[39m.\u001b[39;49maugmentation)\n\u001b[0;32m   1723\u001b[0m \u001b[39m# Skip images that have no instances. This can happen in cases\u001b[39;00m\n\u001b[0;32m   1724\u001b[0m \u001b[39m# where we train on a subset of classes and the image doesn't\u001b[39;00m\n\u001b[0;32m   1725\u001b[0m \u001b[39m# have any of the classes we care about.\u001b[39;00m\n\u001b[0;32m   1726\u001b[0m \u001b[39mif\u001b[39;00m \u001b[39mnot\u001b[39;00m np\u001b[39m.\u001b[39many(gt_class_ids \u001b[39m>\u001b[39m \u001b[39m0\u001b[39m):\n",
      "File \u001b[1;32mc:\\Users\\brunolopez\\anaconda3\\envs\\maskrcnn\\lib\\site-packages\\mask_rcnn-2.1-py3.9.egg\\mrcnn\\model.py:1295\u001b[0m, in \u001b[0;36mload_image_gt\u001b[1;34m(dataset, config, image_id, augmentation)\u001b[0m\n\u001b[0;32m   1293\u001b[0m \u001b[39m# Resize masks to smaller size to reduce memory usage\u001b[39;00m\n\u001b[0;32m   1294\u001b[0m \u001b[39mif\u001b[39;00m config\u001b[39m.\u001b[39mUSE_MINI_MASK:\n\u001b[1;32m-> 1295\u001b[0m     mask \u001b[39m=\u001b[39m utils\u001b[39m.\u001b[39;49mminimize_mask(bbox, mask, config\u001b[39m.\u001b[39;49mMINI_MASK_SHAPE)\n\u001b[0;32m   1297\u001b[0m \u001b[39m# Image meta data\u001b[39;00m\n\u001b[0;32m   1298\u001b[0m image_meta \u001b[39m=\u001b[39m compose_image_meta(image_id, original_shape, image\u001b[39m.\u001b[39mshape,\n\u001b[0;32m   1299\u001b[0m                                 window, scale, active_class_ids)\n",
      "File \u001b[1;32mc:\\Users\\brunolopez\\anaconda3\\envs\\maskrcnn\\lib\\site-packages\\mask_rcnn-2.1-py3.9.egg\\mrcnn\\utils.py:532\u001b[0m, in \u001b[0;36mminimize_mask\u001b[1;34m(bbox, mask, mini_shape)\u001b[0m\n\u001b[0;32m    530\u001b[0m         \u001b[39mraise\u001b[39;00m \u001b[39mException\u001b[39;00m(\u001b[39m\"\u001b[39m\u001b[39mInvalid bounding box with area of zero\u001b[39m\u001b[39m\"\u001b[39m)\n\u001b[0;32m    531\u001b[0m     \u001b[39m# Resize with bilinear interpolation\u001b[39;00m\n\u001b[1;32m--> 532\u001b[0m     m \u001b[39m=\u001b[39m resize(m, mini_shape)\n\u001b[0;32m    533\u001b[0m     mini_mask[:, :, i] \u001b[39m=\u001b[39m np\u001b[39m.\u001b[39maround(m)\u001b[39m.\u001b[39mastype(np\u001b[39m.\u001b[39mbool)\n\u001b[0;32m    534\u001b[0m \u001b[39mreturn\u001b[39;00m mini_mask\n",
      "File \u001b[1;32mc:\\Users\\brunolopez\\anaconda3\\envs\\maskrcnn\\lib\\site-packages\\mask_rcnn-2.1-py3.9.egg\\mrcnn\\utils.py:899\u001b[0m, in \u001b[0;36mresize\u001b[1;34m(image, output_shape, order, mode, cval, clip, preserve_range, anti_aliasing, anti_aliasing_sigma)\u001b[0m\n\u001b[0;32m    889\u001b[0m \u001b[39m\u001b[39m\u001b[39m\"\"\"A wrapper for Scikit-Image resize().\u001b[39;00m\n\u001b[0;32m    890\u001b[0m \n\u001b[0;32m    891\u001b[0m \u001b[39mScikit-Image generates warnings on every call to resize() if it doesn't\u001b[39;00m\n\u001b[1;32m   (...)\u001b[0m\n\u001b[0;32m    894\u001b[0m \u001b[39mversion. And it provides a central place to control resizing defaults.\u001b[39;00m\n\u001b[0;32m    895\u001b[0m \u001b[39m\"\"\"\u001b[39;00m\n\u001b[0;32m    896\u001b[0m \u001b[39mif\u001b[39;00m LooseVersion(skimage\u001b[39m.\u001b[39m__version__) \u001b[39m>\u001b[39m\u001b[39m=\u001b[39m LooseVersion(\u001b[39m\"\u001b[39m\u001b[39m0.14\u001b[39m\u001b[39m\"\u001b[39m):\n\u001b[0;32m    897\u001b[0m     \u001b[39m# New in 0.14: anti_aliasing. Default it to False for backward\u001b[39;00m\n\u001b[0;32m    898\u001b[0m     \u001b[39m# compatibility with skimage 0.13.\u001b[39;00m\n\u001b[1;32m--> 899\u001b[0m     \u001b[39mreturn\u001b[39;00m skimage\u001b[39m.\u001b[39;49mtransform\u001b[39m.\u001b[39;49mresize(\n\u001b[0;32m    900\u001b[0m         image, output_shape,\n\u001b[0;32m    901\u001b[0m         order\u001b[39m=\u001b[39;49morder, mode\u001b[39m=\u001b[39;49mmode, cval\u001b[39m=\u001b[39;49mcval, clip\u001b[39m=\u001b[39;49mclip,\n\u001b[0;32m    902\u001b[0m         preserve_range\u001b[39m=\u001b[39;49mpreserve_range, anti_aliasing\u001b[39m=\u001b[39;49manti_aliasing,\n\u001b[0;32m    903\u001b[0m         anti_aliasing_sigma\u001b[39m=\u001b[39;49manti_aliasing_sigma)\n\u001b[0;32m    904\u001b[0m \u001b[39melse\u001b[39;00m:\n\u001b[0;32m    905\u001b[0m     \u001b[39mreturn\u001b[39;00m skimage\u001b[39m.\u001b[39mtransform\u001b[39m.\u001b[39mresize(\n\u001b[0;32m    906\u001b[0m         image, output_shape,\n\u001b[0;32m    907\u001b[0m         order\u001b[39m=\u001b[39morder, mode\u001b[39m=\u001b[39mmode, cval\u001b[39m=\u001b[39mcval, clip\u001b[39m=\u001b[39mclip,\n\u001b[0;32m    908\u001b[0m         preserve_range\u001b[39m=\u001b[39mpreserve_range)\n",
      "File \u001b[1;32mc:\\Users\\brunolopez\\anaconda3\\envs\\maskrcnn\\lib\\site-packages\\skimage\\transform\\_warps.py:160\u001b[0m, in \u001b[0;36mresize\u001b[1;34m(image, output_shape, order, mode, cval, clip, preserve_range, anti_aliasing, anti_aliasing_sigma)\u001b[0m\n\u001b[0;32m    157\u001b[0m     \u001b[39mraise\u001b[39;00m \u001b[39mValueError\u001b[39;00m(\u001b[39m\"\u001b[39m\u001b[39manti_aliasing must be False for boolean images\u001b[39m\u001b[39m\"\u001b[39m)\n\u001b[0;32m    159\u001b[0m factors \u001b[39m=\u001b[39m np\u001b[39m.\u001b[39mdivide(input_shape, output_shape)\n\u001b[1;32m--> 160\u001b[0m order \u001b[39m=\u001b[39m _validate_interpolation_order(input_type, order)\n\u001b[0;32m    161\u001b[0m \u001b[39mif\u001b[39;00m order \u001b[39m>\u001b[39m \u001b[39m0\u001b[39m:\n\u001b[0;32m    162\u001b[0m     image \u001b[39m=\u001b[39m convert_to_float(image, preserve_range)\n",
      "File \u001b[1;32mc:\\Users\\brunolopez\\anaconda3\\envs\\maskrcnn\\lib\\site-packages\\skimage\\_shared\\utils.py:724\u001b[0m, in \u001b[0;36m_validate_interpolation_order\u001b[1;34m(image_dtype, order)\u001b[0m\n\u001b[0;32m    720\u001b[0m     \u001b[39mraise\u001b[39;00m \u001b[39mValueError\u001b[39;00m(\u001b[39m\"\u001b[39m\u001b[39mSpline interpolation order has to be in the \u001b[39m\u001b[39m\"\u001b[39m\n\u001b[0;32m    721\u001b[0m                      \u001b[39m\"\u001b[39m\u001b[39mrange 0-5.\u001b[39m\u001b[39m\"\u001b[39m)\n\u001b[0;32m    723\u001b[0m \u001b[39mif\u001b[39;00m image_dtype \u001b[39m==\u001b[39m \u001b[39mbool\u001b[39m \u001b[39mand\u001b[39;00m order \u001b[39m!=\u001b[39m \u001b[39m0\u001b[39m:\n\u001b[1;32m--> 724\u001b[0m     \u001b[39mraise\u001b[39;00m \u001b[39mValueError\u001b[39;00m(\n\u001b[0;32m    725\u001b[0m         \u001b[39m\"\u001b[39m\u001b[39mInput image dtype is bool. Interpolation is not defined \u001b[39m\u001b[39m\"\u001b[39m\n\u001b[0;32m    726\u001b[0m          \u001b[39m\"\u001b[39m\u001b[39mwith bool data type. Please set order to 0 or explicitely \u001b[39m\u001b[39m\"\u001b[39m\n\u001b[0;32m    727\u001b[0m          \u001b[39m\"\u001b[39m\u001b[39mcast input image to another data type.\u001b[39m\u001b[39m\"\u001b[39m)\n\u001b[0;32m    729\u001b[0m \u001b[39mreturn\u001b[39;00m order\n",
      "\u001b[1;31mValueError\u001b[0m: Input image dtype is bool. Interpolation is not defined with bool data type. Please set order to 0 or explicitely cast input image to another data type."
     ]
    }
   ],
   "source": [
    "model.train(train_dataset=train_set, \n",
    "            val_dataset=valid_dataset, \n",
    "            learning_rate=KomiConfig().LEARNING_RATE, \n",
    "            epochs=10, \n",
    "            layers='heads')"
   ]
  },
  {
   "cell_type": "code",
   "execution_count": null,
   "metadata": {},
   "outputs": [],
   "source": []
  }
 ],
 "metadata": {
  "kernelspec": {
   "display_name": "maskrcnn",
   "language": "python",
   "name": "python3"
  },
  "language_info": {
   "codemirror_mode": {
    "name": "ipython",
    "version": 3
   },
   "file_extension": ".py",
   "mimetype": "text/x-python",
   "name": "python",
   "nbconvert_exporter": "python",
   "pygments_lexer": "ipython3",
   "version": "3.9.16"
  },
  "orig_nbformat": 4,
  "vscode": {
   "interpreter": {
    "hash": "9446c1be720909b095eae411a64c659e8c5160f5e42a153f10156c40f2e94df7"
   }
  }
 },
 "nbformat": 4,
 "nbformat_minor": 2
}
