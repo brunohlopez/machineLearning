{
 "cells": [
  {
   "cell_type": "code",
   "execution_count": 5,
   "metadata": {},
   "outputs": [],
   "source": [
    "import os\n",
    "import numpy as np\n",
    "import pandas as pd\n",
    "import random\n",
    "from os import listdir\n",
    "from os.path import isfile, join"
   ]
  },
  {
   "cell_type": "code",
   "execution_count": null,
   "metadata": {},
   "outputs": [],
   "source": [
    "# Define the date range\n",
    "start_date = pd.Timestamp('2010-01-01', freq='D')\n",
    "end_date = pd.Timestamp('2019-12-31', freq='D')\n",
    "\n",
    "# Generate a daily date range\n",
    "dates = pd.date_range(start_date, end_date, freq='D')\n",
    "\n",
    "#fictional city we are after\n",
    "city = 'New York'\n",
    "\n",
    "#change to wherever you want to store your data\n",
    "base_url = r'C:\\Users\\brunolopez\\mldata\\energy'"
   ]
  },
  {
   "attachments": {},
   "cell_type": "markdown",
   "metadata": {},
   "source": [
    "Let's create 20 different datasets for NY can be fake inverters or something and export them"
   ]
  },
  {
   "cell_type": "code",
   "execution_count": 8,
   "metadata": {},
   "outputs": [],
   "source": [
    "# Generate 20 different datasets for 20 different cities\n",
    "for i in range(1, 21):\n",
    "    \n",
    "    # Generate a random baseline solar energy production\n",
    "    baseline = np.random.normal(8, 1, len(dates)).clip(0)\n",
    "\n",
    "    # Add 50 anomalies\n",
    "    anomaly_dates = pd.date_range('2012-01-01', '2019-12-31', freq='M')\n",
    "    for d in random.sample(list(anomaly_dates), 50):\n",
    "        start = dates.get_loc(d)\n",
    "        baseline[start:start+30] += np.random.normal(5, 2)\n",
    "\n",
    "    # Create a DataFrame with the solar energy production data\n",
    "    data = pd.DataFrame({'City': city, 'Date': dates, 'Solar Energy Production': baseline})\n",
    "\n",
    "    # Save the data to a CSV file\n",
    "    filename = base_url + '/'f'anomaly_dataset_city{i}.csv'\n",
    "    data.to_csv(filename, index=False)\n",
    "\n"
   ]
  },
  {
   "cell_type": "code",
   "execution_count": null,
   "metadata": {},
   "outputs": [],
   "source": []
  }
 ],
 "metadata": {
  "kernelspec": {
   "display_name": "ml_general",
   "language": "python",
   "name": "python3"
  },
  "language_info": {
   "codemirror_mode": {
    "name": "ipython",
    "version": 3
   },
   "file_extension": ".py",
   "mimetype": "text/x-python",
   "name": "python",
   "nbconvert_exporter": "python",
   "pygments_lexer": "ipython3",
   "version": "3.9.16"
  },
  "orig_nbformat": 4,
  "vscode": {
   "interpreter": {
    "hash": "bb5e55f684473c4b6512aa0c14891560301519e7737e76bfd86027904a0ff245"
   }
  }
 },
 "nbformat": 4,
 "nbformat_minor": 2
}
