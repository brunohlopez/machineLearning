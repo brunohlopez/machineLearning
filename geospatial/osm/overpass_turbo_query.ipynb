{
 "cells": [
  {
   "cell_type": "code",
   "execution_count": 4,
   "metadata": {},
   "outputs": [],
   "source": [
    "import requests\n",
    "import json\n",
    "import overpy as opy"
   ]
  },
  {
   "attachments": {},
   "cell_type": "markdown",
   "metadata": {},
   "source": [
    "Here will be using an example, to see the capabilites of what we can do with OSM data. I selected some vineyards in France"
   ]
  },
  {
   "cell_type": "code",
   "execution_count": 29,
   "metadata": {},
   "outputs": [],
   "source": [
    "#How to access the overpass query interperter\n",
    "\n",
    "api = opy.Overpass()\n",
    "overpass_query = api.query(\"\"\"\n",
    "[bbox:44.453388800301774,-0.56304931640625,46.240651955001695,2.3345947265625]\n",
    "[timeout:25]\n",
    ";\n",
    "(\n",
    "  node[\"landuse\"=\"vineyard\"];\n",
    "  way[\"landuse\"=\"vineyard\"];\n",
    "  relation[\"landuse\"=\"vineyard\"];\n",
    ");\n",
    "out center;\n",
    "\"\"\")\n",
    "\n",
    "\n"
   ]
  },
  {
   "attachments": {},
   "cell_type": "markdown",
   "metadata": {},
   "source": [
    "Let's now save all of the output from OSM into coordinates"
   ]
  },
  {
   "cell_type": "code",
   "execution_count": 30,
   "metadata": {},
   "outputs": [],
   "source": [
    "node_coords = [(float(node.lon), float(node.lat)) \n",
    "           for node in overpass_query.nodes]\n",
    "way_coords = [(float(way.center_lon), float(way.center_lat)) \n",
    "           for way in overpass_query.ways]\n",
    "relation_coords = [(float(rel.center_lon), float(rel.center_lat)) \n",
    "           for rel in overpass_query.relations]"
   ]
  },
  {
   "attachments": {},
   "cell_type": "markdown",
   "metadata": {},
   "source": [
    "Let's see what information we can get out of this using the overpy package"
   ]
  },
  {
   "cell_type": "code",
   "execution_count": 31,
   "metadata": {},
   "outputs": [
    {
     "name": "stdout",
     "output_type": "stream",
     "text": [
      "Number of ways:  10436\n",
      "Number of nodes:  2\n",
      "Number of relations:  460\n"
     ]
    }
   ],
   "source": [
    "def metadata_info(result_overpass):\n",
    "\n",
    "    coords = []\n",
    "\n",
    "    print(\"Number of ways: \", len(overpass_query.ways))\n",
    "    print(\"Number of nodes: \", len(overpass_query.nodes))\n",
    "    print(\"Number of relations: \", len(overpass_query.relations))\n",
    "\n",
    "\n",
    "\n",
    "metadata_info(overpass_query)"
   ]
  },
  {
   "cell_type": "code",
   "execution_count": 68,
   "metadata": {},
   "outputs": [
    {
     "data": {
      "text/plain": [
       "<overpy.Way id=25308659 nodes=[275673915, 275673935, 275673936, 275673964, 2156225512, 275673915]>"
      ]
     },
     "execution_count": 68,
     "metadata": {},
     "output_type": "execute_result"
    }
   ],
   "source": [
    "overpass_query.ways[0]"
   ]
  },
  {
   "cell_type": "code",
   "execution_count": 100,
   "metadata": {},
   "outputs": [
    {
     "data": {
      "text/plain": [
       "[<overpy.Node id=275673915 lat=45.8371811 lon=1.1282429>,\n",
       " <overpy.Node id=275673935 lat=45.8368817 lon=1.1325448>,\n",
       " <overpy.Node id=275673936 lat=45.8357616 lon=1.1319743>,\n",
       " <overpy.Node id=275673964 lat=45.8352961 lon=1.1306867>,\n",
       " <overpy.Node id=2156225512 lat=45.8365380 lon=1.1279466>,\n",
       " <overpy.Node id=275673915 lat=45.8371811 lon=1.1282429>]"
      ]
     },
     "execution_count": 100,
     "metadata": {},
     "output_type": "execute_result"
    }
   ],
   "source": [
    "overpass_query.ways[0].get_nodes(resolve_missing = True)"
   ]
  },
  {
   "attachments": {},
   "cell_type": "markdown",
   "metadata": {},
   "source": [
    "Let's see the same thing except with some of the relations"
   ]
  },
  {
   "cell_type": "code",
   "execution_count": 120,
   "metadata": {},
   "outputs": [
    {
     "data": {
      "text/plain": [
       "[<overpy.RelationWay ref=326355422 role=outer>,\n",
       " <overpy.RelationWay ref=326360676 role=outer>,\n",
       " <overpy.RelationWay ref=326328889 role=outer>,\n",
       " <overpy.RelationWay ref=326382332 role=outer>,\n",
       " <overpy.RelationWay ref=326328887 role=outer>,\n",
       " <overpy.RelationWay ref=326240440 role=outer>,\n",
       " <overpy.RelationWay ref=41647159 role=outer>,\n",
       " <overpy.RelationWay ref=326356418 role=outer>,\n",
       " <overpy.RelationWay ref=327061500 role=outer>,\n",
       " <overpy.RelationWay ref=326355627 role=outer>,\n",
       " <overpy.RelationWay ref=326336181 role=outer>,\n",
       " <overpy.RelationWay ref=326329682 role=outer>,\n",
       " <overpy.RelationWay ref=326360675 role=outer>,\n",
       " <overpy.RelationWay ref=41647162 role=inner>,\n",
       " <overpy.RelationWay ref=41647163 role=inner>,\n",
       " <overpy.RelationWay ref=41647164 role=inner>]"
      ]
     },
     "execution_count": 120,
     "metadata": {},
     "output_type": "execute_result"
    }
   ],
   "source": [
    "overpass_query.relations[0].members"
   ]
  },
  {
   "cell_type": "code",
   "execution_count": 127,
   "metadata": {},
   "outputs": [
    {
     "data": {
      "text/plain": [
       "<overpy.RelationWay ref=41647395 role=outer>"
      ]
     },
     "execution_count": 127,
     "metadata": {},
     "output_type": "execute_result"
    }
   ],
   "source": [
    "overpass_query.relations[1].members[0]"
   ]
  },
  {
   "cell_type": "code",
   "execution_count": 129,
   "metadata": {},
   "outputs": [
    {
     "data": {
      "text/plain": [
       "<overpy.Way id=41647398 nodes=[511284551, 511284553, 511284556, 511284559, 511284561, 511284566, 511284568, 511284571, 511284574, 511284579, 511284582, 511284585, 511284606, 511284551]>"
      ]
     },
     "execution_count": 129,
     "metadata": {},
     "output_type": "execute_result"
    }
   ],
   "source": [
    "overpass_query.relations[1].members[1].resolve(resolve_missing = True)"
   ]
  },
  {
   "cell_type": "code",
   "execution_count": 131,
   "metadata": {},
   "outputs": [
    {
     "data": {
      "text/plain": [
       "[<overpy.Node id=511284551 lat=45.2957196 lon=-0.5742611>,\n",
       " <overpy.Node id=511284553 lat=45.2963902 lon=-0.5740606>,\n",
       " <overpy.Node id=511284556 lat=45.2966443 lon=-0.5739994>,\n",
       " <overpy.Node id=511284559 lat=45.2970968 lon=-0.5754785>,\n",
       " <overpy.Node id=511284561 lat=45.2989639 lon=-0.5761570>,\n",
       " <overpy.Node id=511284566 lat=45.2997947 lon=-0.5804391>,\n",
       " <overpy.Node id=511284568 lat=45.2993153 lon=-0.5838307>,\n",
       " <overpy.Node id=511284571 lat=45.2985870 lon=-0.5835819>,\n",
       " <overpy.Node id=511284574 lat=45.2962429 lon=-0.5839311>,\n",
       " <overpy.Node id=511284579 lat=45.2957817 lon=-0.5761114>,\n",
       " <overpy.Node id=511284582 lat=45.2951633 lon=-0.5762590>,\n",
       " <overpy.Node id=511284585 lat=45.2948259 lon=-0.5746477>,\n",
       " <overpy.Node id=511284606 lat=45.2957218 lon=-0.5742980>,\n",
       " <overpy.Node id=511284551 lat=45.2957196 lon=-0.5742611>]"
      ]
     },
     "execution_count": 131,
     "metadata": {},
     "output_type": "execute_result"
    }
   ],
   "source": [
    "overpass_query.relations[1].members[1].resolve(resolve_missing = True).get_nodes(resolve_missing = True)"
   ]
  },
  {
   "attachments": {},
   "cell_type": "markdown",
   "metadata": {},
   "source": [
    "Let's construct an OSM class on top of this overpy wrapper so that we can extract any data we want given a bounding box or\n",
    "we can even do it for districts or for other things."
   ]
  },
  {
   "cell_type": "code",
   "execution_count": null,
   "metadata": {},
   "outputs": [],
   "source": [
    "class OSM:\n",
    "\n",
    "    def __init__()"
   ]
  }
 ],
 "metadata": {
  "kernelspec": {
   "display_name": "mllearn",
   "language": "python",
   "name": "python3"
  },
  "language_info": {
   "codemirror_mode": {
    "name": "ipython",
    "version": 3
   },
   "file_extension": ".py",
   "mimetype": "text/x-python",
   "name": "python",
   "nbconvert_exporter": "python",
   "pygments_lexer": "ipython3",
   "version": "3.9.15"
  },
  "orig_nbformat": 4,
  "vscode": {
   "interpreter": {
    "hash": "02db7a3dcf4179c489456eb94e21388baeb50aaaca548f620f0ca724e91cd834"
   }
  }
 },
 "nbformat": 4,
 "nbformat_minor": 2
}
