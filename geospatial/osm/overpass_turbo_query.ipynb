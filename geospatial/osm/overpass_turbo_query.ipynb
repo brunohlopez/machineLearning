{
 "cells": [
  {
   "cell_type": "code",
   "execution_count": 2,
   "metadata": {},
   "outputs": [],
   "source": [
    "import requests\n",
    "import json\n",
    "import overpy as opy\n",
    "import pandas as pd\n",
    "from bs4 import BeautifulSoup\n",
    "from itertools import chain"
   ]
  },
  {
   "attachments": {},
   "cell_type": "markdown",
   "metadata": {},
   "source": [
    "Here will be using an example, to see the capabilites of what we can do with OSM data. I selected some vineyards in France"
   ]
  },
  {
   "cell_type": "code",
   "execution_count": 3,
   "metadata": {},
   "outputs": [],
   "source": [
    "#How to access the overpass query interperter\n",
    "\n",
    "api = opy.Overpass()\n",
    "overpass_query = api.query(\"\"\"\n",
    "[bbox:44.453388800301774,-0.56304931640625,46.240651955001695,2.3345947265625]\n",
    "[timeout:25]\n",
    ";\n",
    "(\n",
    "  node[\"landuse\"=\"vineyard\"];\n",
    "  way[\"landuse\"=\"vineyard\"];\n",
    "  relation[\"landuse\"=\"vineyard\"];\n",
    ");\n",
    "out center;\n",
    "\"\"\")\n",
    "\n",
    "\n"
   ]
  },
  {
   "attachments": {},
   "cell_type": "markdown",
   "metadata": {},
   "source": [
    "I'll also be adding a function that generates a query statement, based on a user defined bounding box"
   ]
  },
  {
   "cell_type": "code",
   "execution_count": 2,
   "metadata": {},
   "outputs": [],
   "source": [
    "def overpass_query_constructor_bbox(min_lat, min_lon, max_lat, max_lon, key = 'landuse', value = 'vineyard', timeout = 25):\n",
    "\n",
    "    '''\n",
    "    Constructs a query using overpy. First a bounding box using a min_lat min_lon, max_lat and max long. and then you\n",
    "    can select the catefory\n",
    "\n",
    "        Parameters:\n",
    "            min_lat (float): Minimum Latitude (WGS-84)\n",
    "            min_lon (float): Minimum Longitude (WGS-84)\n",
    "            max_lat (float): Maximum Latitude (WGS-84)\n",
    "            max_lon (float): Maximum Longitude (WGS-84)\n",
    "            key (str): Key for OSM category (ex: https://wiki.openstreetmap.org/wiki/Key:landuse)\n",
    "            value (str): Value for OSM category\n",
    "            timeout (int): Timeout for query (seconds), if your query is timeout might be a lot of data.\n",
    "\n",
    "\n",
    "        Returns:\n",
    "            query_creator (str): Query to run using the overpy api\n",
    "\n",
    "\n",
    "    '''\n",
    "\n",
    "    #constructs a query based on a key, value and you can set timeout also\n",
    "    query_creator = \"\"\"\n",
    "    [bbox: {0}, {1}, {2}, {3}]\n",
    "    [timeout:{4}]\n",
    "    ;\n",
    "    (\n",
    "        node[{5} = {6}];\n",
    "        way[{5} = {6}];\n",
    "        relation[{5} = {6}];\n",
    "    );\n",
    "    out center;\n",
    "\n",
    "    \"\"\".format(str(min_lat), str(min_lon), str(max_lat), str(max_lon), str(timeout), key, value)\n",
    "\n",
    "    return query_creator\n",
    "    "
   ]
  },
  {
   "attachments": {},
   "cell_type": "markdown",
   "metadata": {},
   "source": [
    "It might be useful to see what kind of values exist for specific keys as well. For that we will scrape OSM's wikipedia and\n",
    "pull out the table from the values column"
   ]
  },
  {
   "cell_type": "code",
   "execution_count": 43,
   "metadata": {},
   "outputs": [],
   "source": [
    "def view_values(key, base_url = \"http://wiki.openstreetmap.org/wiki/Key:\"):\n",
    "    '''\n",
    "    Scrape OSM data given a specific key. Returns a table containg, the key, value, element, description, and rendering\n",
    "\n",
    "        Parameters:\n",
    "            key (str): A key from OSM. Here is\n",
    "            an example of the key landuse https://wiki.openstreetmap.org/wiki/Key:landuse\n",
    "\n",
    "\n",
    "        Returns:\n",
    "            final_table (str): Returns a table containing all of the different valuies, elements and descriptions.\n",
    "\n",
    "\n",
    "    '''\n",
    "\n",
    "\n",
    "    full_url = base_url + key\n",
    "    #send a requests to the created URL\n",
    "    response = requests.get(full_url)\n",
    "\n",
    "    #instantiate our beautiful soup object\n",
    "    soup = BeautifulSoup(response.text, 'html.parser')\n",
    "    soup_response = soup.find('table', {'class':'wikitable'})\n",
    "\n",
    "    #put into a table pandas table\n",
    "    read_html = pd.read_html(str(soup_response))\n",
    "    final_frame = pd.DataFrame(read_html[0])\n",
    "\n",
    "    #filter so that the only key is the key that was passed in\n",
    "\n",
    "    return final_frame\n"
   ]
  },
  {
   "attachments": {},
   "cell_type": "markdown",
   "metadata": {},
   "source": [
    "Now let's see the keys from the landuse value."
   ]
  },
  {
   "cell_type": "code",
   "execution_count": 45,
   "metadata": {},
   "outputs": [
    {
     "data": {
      "text/html": [
       "<div>\n",
       "<style scoped>\n",
       "    .dataframe tbody tr th:only-of-type {\n",
       "        vertical-align: middle;\n",
       "    }\n",
       "\n",
       "    .dataframe tbody tr th {\n",
       "        vertical-align: top;\n",
       "    }\n",
       "\n",
       "    .dataframe thead tr th {\n",
       "        text-align: left;\n",
       "    }\n",
       "</style>\n",
       "<table border=\"1\" class=\"dataframe\">\n",
       "  <thead>\n",
       "    <tr>\n",
       "      <th></th>\n",
       "      <th>Key</th>\n",
       "      <th>Value</th>\n",
       "      <th>Element</th>\n",
       "      <th>Description</th>\n",
       "      <th>Rendering</th>\n",
       "      <th>Photo</th>\n",
       "      <th>Unnamed: 6_level_0</th>\n",
       "    </tr>\n",
       "    <tr>\n",
       "      <th></th>\n",
       "      <th>Common landuse key values - developed land</th>\n",
       "      <th>Common landuse key values - developed land</th>\n",
       "      <th>Common landuse key values - developed land</th>\n",
       "      <th>Common landuse key values - developed land</th>\n",
       "      <th>Common landuse key values - developed land</th>\n",
       "      <th>Common landuse key values - developed land</th>\n",
       "      <th>Common landuse key values - developed land</th>\n",
       "    </tr>\n",
       "  </thead>\n",
       "  <tbody>\n",
       "    <tr>\n",
       "      <th>0</th>\n",
       "      <td>landuse</td>\n",
       "      <td>commercial</td>\n",
       "      <td>NaN</td>\n",
       "      <td>Predominantly commercial businesses and their ...</td>\n",
       "      <td>NaN</td>\n",
       "      <td>NaN</td>\n",
       "      <td>NaN</td>\n",
       "    </tr>\n",
       "    <tr>\n",
       "      <th>1</th>\n",
       "      <td>landuse</td>\n",
       "      <td>construction</td>\n",
       "      <td>NaN</td>\n",
       "      <td>A site which is under active development and c...</td>\n",
       "      <td>NaN</td>\n",
       "      <td>NaN</td>\n",
       "      <td>NaN</td>\n",
       "    </tr>\n",
       "    <tr>\n",
       "      <th>2</th>\n",
       "      <td>landuse</td>\n",
       "      <td>education</td>\n",
       "      <td>NaN</td>\n",
       "      <td>An area predominately used for educational pur...</td>\n",
       "      <td>NaN</td>\n",
       "      <td>NaN</td>\n",
       "      <td>NaN</td>\n",
       "    </tr>\n",
       "  </tbody>\n",
       "</table>\n",
       "</div>"
      ],
      "text/plain": [
       "                                         Key  \\\n",
       "  Common landuse key values - developed land   \n",
       "0                                    landuse   \n",
       "1                                    landuse   \n",
       "2                                    landuse   \n",
       "\n",
       "                                       Value  \\\n",
       "  Common landuse key values - developed land   \n",
       "0                                 commercial   \n",
       "1                               construction   \n",
       "2                                  education   \n",
       "\n",
       "                                     Element  \\\n",
       "  Common landuse key values - developed land   \n",
       "0                                        NaN   \n",
       "1                                        NaN   \n",
       "2                                        NaN   \n",
       "\n",
       "                                         Description  \\\n",
       "          Common landuse key values - developed land   \n",
       "0  Predominantly commercial businesses and their ...   \n",
       "1  A site which is under active development and c...   \n",
       "2  An area predominately used for educational pur...   \n",
       "\n",
       "                                   Rendering  \\\n",
       "  Common landuse key values - developed land   \n",
       "0                                        NaN   \n",
       "1                                        NaN   \n",
       "2                                        NaN   \n",
       "\n",
       "                                       Photo  \\\n",
       "  Common landuse key values - developed land   \n",
       "0                                        NaN   \n",
       "1                                        NaN   \n",
       "2                                        NaN   \n",
       "\n",
       "                          Unnamed: 6_level_0  \n",
       "  Common landuse key values - developed land  \n",
       "0                                        NaN  \n",
       "1                                        NaN  \n",
       "2                                        NaN  "
      ]
     },
     "execution_count": 45,
     "metadata": {},
     "output_type": "execute_result"
    }
   ],
   "source": [
    "landuse_table = view_values('landuse')\n",
    "landuse_table.head(3)"
   ]
  },
  {
   "attachments": {},
   "cell_type": "markdown",
   "metadata": {},
   "source": [
    "Okay now let's fix the naming of the columns and get rid of the photo and rending and the last column. You can see all of the values that fall under this key. You can change the function above to see different keys."
   ]
  },
  {
   "cell_type": "code",
   "execution_count": 46,
   "metadata": {},
   "outputs": [
    {
     "data": {
      "text/html": [
       "<div>\n",
       "<style scoped>\n",
       "    .dataframe tbody tr th:only-of-type {\n",
       "        vertical-align: middle;\n",
       "    }\n",
       "\n",
       "    .dataframe tbody tr th {\n",
       "        vertical-align: top;\n",
       "    }\n",
       "\n",
       "    .dataframe thead tr th {\n",
       "        text-align: left;\n",
       "    }\n",
       "</style>\n",
       "<table border=\"1\" class=\"dataframe\">\n",
       "  <thead>\n",
       "    <tr>\n",
       "      <th></th>\n",
       "      <th>Value</th>\n",
       "      <th>Element</th>\n",
       "      <th>Description</th>\n",
       "    </tr>\n",
       "    <tr>\n",
       "      <th></th>\n",
       "      <th>Common landuse key values - developed land</th>\n",
       "      <th>Common landuse key values - developed land</th>\n",
       "      <th>Common landuse key values - developed land</th>\n",
       "    </tr>\n",
       "  </thead>\n",
       "  <tbody>\n",
       "    <tr>\n",
       "      <th>0</th>\n",
       "      <td>commercial</td>\n",
       "      <td>NaN</td>\n",
       "      <td>Predominantly commercial businesses and their ...</td>\n",
       "    </tr>\n",
       "    <tr>\n",
       "      <th>1</th>\n",
       "      <td>construction</td>\n",
       "      <td>NaN</td>\n",
       "      <td>A site which is under active development and c...</td>\n",
       "    </tr>\n",
       "    <tr>\n",
       "      <th>2</th>\n",
       "      <td>education</td>\n",
       "      <td>NaN</td>\n",
       "      <td>An area predominately used for educational pur...</td>\n",
       "    </tr>\n",
       "    <tr>\n",
       "      <th>3</th>\n",
       "      <td>industrial</td>\n",
       "      <td>NaN</td>\n",
       "      <td>Predominantly industrial landuses such as work...</td>\n",
       "    </tr>\n",
       "    <tr>\n",
       "      <th>4</th>\n",
       "      <td>residential</td>\n",
       "      <td>NaN</td>\n",
       "      <td>Land where people reside; predominantly reside...</td>\n",
       "    </tr>\n",
       "  </tbody>\n",
       "</table>\n",
       "</div>"
      ],
      "text/plain": [
       "                                       Value  \\\n",
       "  Common landuse key values - developed land   \n",
       "0                                 commercial   \n",
       "1                               construction   \n",
       "2                                  education   \n",
       "3                                 industrial   \n",
       "4                                residential   \n",
       "\n",
       "                                     Element  \\\n",
       "  Common landuse key values - developed land   \n",
       "0                                        NaN   \n",
       "1                                        NaN   \n",
       "2                                        NaN   \n",
       "3                                        NaN   \n",
       "4                                        NaN   \n",
       "\n",
       "                                         Description  \n",
       "          Common landuse key values - developed land  \n",
       "0  Predominantly commercial businesses and their ...  \n",
       "1  A site which is under active development and c...  \n",
       "2  An area predominately used for educational pur...  \n",
       "3  Predominantly industrial landuses such as work...  \n",
       "4  Land where people reside; predominantly reside...  "
      ]
     },
     "execution_count": 46,
     "metadata": {},
     "output_type": "execute_result"
    }
   ],
   "source": [
    "landuse_table_drop = landuse_table.iloc[:, 1:4]\n",
    "landuse_table_drop.head()"
   ]
  },
  {
   "attachments": {},
   "cell_type": "markdown",
   "metadata": {},
   "source": [
    "Example Box\n",
    "44.453388800301774,-0.56304931640625,46.240651955001695,2.3345947265625"
   ]
  },
  {
   "cell_type": "code",
   "execution_count": 51,
   "metadata": {},
   "outputs": [
    {
     "name": "stdout",
     "output_type": "stream",
     "text": [
      "\n",
      "    [bbox: 44.453388800301774, -0.56304931640625, 46.240651955001695, 2.3345947265625]\n",
      "    [timeout:30]\n",
      "    ;\n",
      "    (\n",
      "        node[landuse = vineyard];\n",
      "        way[landuse = vineyard];\n",
      "        relation[landuse = vineyard];\n",
      "    );\n",
      "    out center;\n",
      "\n",
      "    \n"
     ]
    }
   ],
   "source": [
    "the_query = overpass_query_constructor_bbox(44.453388800301774, -0.56304931640625, 46.240651955001695, 2.3345947265625, timeout = 30)\n",
    "print(the_query)"
   ]
  },
  {
   "attachments": {},
   "cell_type": "markdown",
   "metadata": {},
   "source": [
    "Let's now save all of the output from OSM into coordinates. For the ways and relations, we\n",
    "are taking the center polygon."
   ]
  },
  {
   "cell_type": "code",
   "execution_count": 4,
   "metadata": {},
   "outputs": [],
   "source": [
    "node_coords = [(float(node.lon), float(node.lat)) \n",
    "           for node in overpass_query.nodes]"
   ]
  },
  {
   "cell_type": "code",
   "execution_count": 5,
   "metadata": {},
   "outputs": [],
   "source": [
    "node_coords = [(float(node.lon), float(node.lat)) \n",
    "           for node in overpass_query.nodes]\n",
    "way_coords = [(float(way.center_lon), float(way.center_lat)) \n",
    "           for way in overpass_query.ways]\n",
    "relation_coords = [(float(rel.center_lon), float(rel.center_lat)) \n",
    "           for rel in overpass_query.relations]"
   ]
  },
  {
   "attachments": {},
   "cell_type": "markdown",
   "metadata": {},
   "source": [
    "Let's see what information we can get out of this using the overpy package"
   ]
  },
  {
   "cell_type": "code",
   "execution_count": 6,
   "metadata": {},
   "outputs": [
    {
     "name": "stdout",
     "output_type": "stream",
     "text": [
      "Number of ways:  10436\n",
      "Number of nodes:  2\n",
      "Number of relations:  460\n"
     ]
    }
   ],
   "source": [
    "def metadata_info(result_overpass):\n",
    "\n",
    "    coords = []\n",
    "\n",
    "    print(\"Number of ways: \", len(overpass_query.ways))\n",
    "    print(\"Number of nodes: \", len(overpass_query.nodes))\n",
    "    print(\"Number of relations: \", len(overpass_query.relations))\n",
    "\n",
    "\n",
    "\n",
    "metadata_info(overpass_query)"
   ]
  },
  {
   "cell_type": "code",
   "execution_count": 7,
   "metadata": {},
   "outputs": [
    {
     "data": {
      "text/plain": [
       "<overpy.Node id=1590507069 lat=45.4965397 lon=0.0298435>"
      ]
     },
     "execution_count": 7,
     "metadata": {},
     "output_type": "execute_result"
    }
   ],
   "source": [
    "overpass_query.nodes[0]"
   ]
  },
  {
   "cell_type": "code",
   "execution_count": 8,
   "metadata": {},
   "outputs": [
    {
     "data": {
      "text/plain": [
       "25308659"
      ]
     },
     "execution_count": 8,
     "metadata": {},
     "output_type": "execute_result"
    }
   ],
   "source": [
    "overpass_query.ways[0].id"
   ]
  },
  {
   "cell_type": "code",
   "execution_count": 9,
   "metadata": {},
   "outputs": [
    {
     "name": "stdout",
     "output_type": "stream",
     "text": [
      "[<overpy.Node id=275673915 lat=45.8371811 lon=1.1282429>, <overpy.Node id=275673935 lat=45.8368817 lon=1.1325448>, <overpy.Node id=275673936 lat=45.8357616 lon=1.1319743>, <overpy.Node id=275673964 lat=45.8352961 lon=1.1306867>, <overpy.Node id=2156225512 lat=45.8365380 lon=1.1279466>, <overpy.Node id=275673915 lat=45.8371811 lon=1.1282429>]\n"
     ]
    }
   ],
   "source": [
    "print(overpass_query.ways[0].get_nodes(resolve_missing = True))"
   ]
  },
  {
   "cell_type": "code",
   "execution_count": 36,
   "metadata": {},
   "outputs": [
    {
     "data": {
      "text/plain": [
       "<overpy.Node id=275673915 lat=45.8371811 lon=1.1282429>"
      ]
     },
     "execution_count": 36,
     "metadata": {},
     "output_type": "execute_result"
    }
   ],
   "source": [
    "overpass_query.ways[0].get_nodes(resolve_missing = True)[0]"
   ]
  },
  {
   "attachments": {},
   "cell_type": "markdown",
   "metadata": {},
   "source": [
    "Let's see the same thing except with some of the relations"
   ]
  },
  {
   "cell_type": "code",
   "execution_count": 10,
   "metadata": {},
   "outputs": [
    {
     "name": "stdout",
     "output_type": "stream",
     "text": [
      "[<overpy.RelationWay ref=326355422 role=outer>, <overpy.RelationWay ref=326360676 role=outer>, <overpy.RelationWay ref=326328889 role=outer>, <overpy.RelationWay ref=326382332 role=outer>, <overpy.RelationWay ref=326328887 role=outer>, <overpy.RelationWay ref=326240440 role=outer>, <overpy.RelationWay ref=41647159 role=outer>, <overpy.RelationWay ref=326356418 role=outer>, <overpy.RelationWay ref=327061500 role=outer>, <overpy.RelationWay ref=326355627 role=outer>, <overpy.RelationWay ref=326336181 role=outer>, <overpy.RelationWay ref=326329682 role=outer>, <overpy.RelationWay ref=326360675 role=outer>, <overpy.RelationWay ref=41647162 role=inner>, <overpy.RelationWay ref=41647163 role=inner>, <overpy.RelationWay ref=41647164 role=inner>]\n"
     ]
    }
   ],
   "source": [
    "print(overpass_query.relations[0].members)"
   ]
  },
  {
   "cell_type": "code",
   "execution_count": 11,
   "metadata": {},
   "outputs": [
    {
     "name": "stdout",
     "output_type": "stream",
     "text": [
      "<overpy.RelationWay ref=41647395 role=outer>\n"
     ]
    }
   ],
   "source": [
    "print(overpass_query.relations[1].members[0])"
   ]
  },
  {
   "cell_type": "code",
   "execution_count": 12,
   "metadata": {},
   "outputs": [
    {
     "name": "stdout",
     "output_type": "stream",
     "text": [
      "<overpy.Way id=41647398 nodes=[511284551, 511284553, 511284556, 511284559, 511284561, 511284566, 511284568, 511284571, 511284574, 511284579, 511284582, 511284585, 511284606, 511284551]>\n"
     ]
    }
   ],
   "source": [
    "print(overpass_query.relations[1].members[1].resolve(resolve_missing = True))"
   ]
  },
  {
   "cell_type": "code",
   "execution_count": 13,
   "metadata": {},
   "outputs": [
    {
     "name": "stdout",
     "output_type": "stream",
     "text": [
      "[<overpy.Node id=511284551 lat=45.2957196 lon=-0.5742611>, <overpy.Node id=511284553 lat=45.2963902 lon=-0.5740606>, <overpy.Node id=511284556 lat=45.2966443 lon=-0.5739994>, <overpy.Node id=511284559 lat=45.2970968 lon=-0.5754785>, <overpy.Node id=511284561 lat=45.2989639 lon=-0.5761570>, <overpy.Node id=511284566 lat=45.2997947 lon=-0.5804391>, <overpy.Node id=511284568 lat=45.2993153 lon=-0.5838307>, <overpy.Node id=511284571 lat=45.2985870 lon=-0.5835819>, <overpy.Node id=511284574 lat=45.2962429 lon=-0.5839311>, <overpy.Node id=511284579 lat=45.2957817 lon=-0.5761114>, <overpy.Node id=511284582 lat=45.2951633 lon=-0.5762590>, <overpy.Node id=511284585 lat=45.2948259 lon=-0.5746477>, <overpy.Node id=511284606 lat=45.2957218 lon=-0.5742980>, <overpy.Node id=511284551 lat=45.2957196 lon=-0.5742611>]\n"
     ]
    }
   ],
   "source": [
    "print(overpass_query.relations[1].members[1].resolve(resolve_missing = True).get_nodes(resolve_missing = True))"
   ]
  },
  {
   "attachments": {},
   "cell_type": "markdown",
   "metadata": {},
   "source": [
    "Using all of this above, we can iterate through all of the nodes and get the coords. We are also able to do this for the ways and relations. From the coordinates for this, we can iterate through all of the ways to get the nodes. From the nodes we can reconstruct the geomery and then finally\n",
    "can creata shapefile for each of the shapes.\n",
    "\n"
   ]
  },
  {
   "cell_type": "code",
   "execution_count": 17,
   "metadata": {},
   "outputs": [],
   "source": [
    "class OSMGeometries:\n",
    "\n",
    "    def __init__(self, overpass_query):\n",
    "        self.overpass_query = overpass_query\n",
    "        \n",
    "\n",
    "    def nodes_dataframe(self):\n",
    "        #get a list of tuple for the coordinates in WGS 84  \n",
    "        \n",
    "        lon_node = []\n",
    "        lat_node = []\n",
    "        id_node = []\n",
    "\n",
    "        for node in self.overpass_query.nodes:\n",
    "            lon_node.append(float(node.lon))\n",
    "            lat_node.append(float(node.lat))\n",
    "            id_node.append(int(node.id))\n",
    "\n",
    "        final_frame = pd.DataFrame({\"lon\": lon_node, \"lat\": lat_node, \"node_id\": id_node})\n",
    "\n",
    "        return final_frame\n",
    "\n",
    "    \n",
    "    def ways_dataframe(self):\n",
    "\n",
    "        lon_node = []\n",
    "        lat_node = []\n",
    "        id_node = []\n",
    "        id_way = []\n",
    "\n",
    "        #First for loop over the ways\n",
    "        for way in self.overpass_query.ways:\n",
    "            #create a list of all of the different ways \n",
    "            the_nodes = way.get_nodes(resolve_missing = True)\n",
    "            way_id = way.id\n",
    "            #second for loop loops over the nodes\n",
    "            for node in the_nodes:\n",
    "                lon_node.append(float(node.lon))\n",
    "                lat_node.append(float(node.lat))\n",
    "                id_node.append(int(node.id))\n",
    "                id_way.append(way_id)\n",
    "\n",
    "        final_frame = pd.DataFrame({\"lon\": lon_node, \"lat\": lat_node, \"node_id\": id_node, 'way_id': id_way})\n",
    "\n",
    "    def relation_dataframe()\n",
    "\n",
    "                \n",
    "\n",
    "\n",
    "\n",
    "\n",
    "\n",
    "            \n",
    "        \n",
    "\n",
    "        \n",
    "        \n",
    "\n",
    "    "
   ]
  },
  {
   "cell_type": "code",
   "execution_count": 18,
   "metadata": {},
   "outputs": [],
   "source": [
    "the_query = OSMGeometries(overpass_query)"
   ]
  },
  {
   "cell_type": "code",
   "execution_count": 20,
   "metadata": {},
   "outputs": [
    {
     "data": {
      "text/html": [
       "<div>\n",
       "<style scoped>\n",
       "    .dataframe tbody tr th:only-of-type {\n",
       "        vertical-align: middle;\n",
       "    }\n",
       "\n",
       "    .dataframe tbody tr th {\n",
       "        vertical-align: top;\n",
       "    }\n",
       "\n",
       "    .dataframe thead th {\n",
       "        text-align: right;\n",
       "    }\n",
       "</style>\n",
       "<table border=\"1\" class=\"dataframe\">\n",
       "  <thead>\n",
       "    <tr style=\"text-align: right;\">\n",
       "      <th></th>\n",
       "      <th>lon</th>\n",
       "      <th>lat</th>\n",
       "      <th>id</th>\n",
       "    </tr>\n",
       "  </thead>\n",
       "  <tbody>\n",
       "    <tr>\n",
       "      <th>0</th>\n",
       "      <td>0.029843</td>\n",
       "      <td>45.496540</td>\n",
       "      <td>1590507069</td>\n",
       "    </tr>\n",
       "    <tr>\n",
       "      <th>1</th>\n",
       "      <td>-0.124944</td>\n",
       "      <td>44.801304</td>\n",
       "      <td>6647305399</td>\n",
       "    </tr>\n",
       "    <tr>\n",
       "      <th>2</th>\n",
       "      <td>1.128243</td>\n",
       "      <td>45.837181</td>\n",
       "      <td>275673915</td>\n",
       "    </tr>\n",
       "    <tr>\n",
       "      <th>3</th>\n",
       "      <td>1.132545</td>\n",
       "      <td>45.836882</td>\n",
       "      <td>275673935</td>\n",
       "    </tr>\n",
       "    <tr>\n",
       "      <th>4</th>\n",
       "      <td>1.131974</td>\n",
       "      <td>45.835762</td>\n",
       "      <td>275673936</td>\n",
       "    </tr>\n",
       "    <tr>\n",
       "      <th>5</th>\n",
       "      <td>1.130687</td>\n",
       "      <td>45.835296</td>\n",
       "      <td>275673964</td>\n",
       "    </tr>\n",
       "    <tr>\n",
       "      <th>6</th>\n",
       "      <td>1.127947</td>\n",
       "      <td>45.836538</td>\n",
       "      <td>2156225512</td>\n",
       "    </tr>\n",
       "  </tbody>\n",
       "</table>\n",
       "</div>"
      ],
      "text/plain": [
       "        lon        lat          id\n",
       "0  0.029843  45.496540  1590507069\n",
       "1 -0.124944  44.801304  6647305399\n",
       "2  1.128243  45.837181   275673915\n",
       "3  1.132545  45.836882   275673935\n",
       "4  1.131974  45.835762   275673936\n",
       "5  1.130687  45.835296   275673964\n",
       "6  1.127947  45.836538  2156225512"
      ]
     },
     "execution_count": 20,
     "metadata": {},
     "output_type": "execute_result"
    }
   ],
   "source": [
    "node_test = the_query.nodes_dataframe()\n",
    "node_test"
   ]
  },
  {
   "attachments": {},
   "cell_type": "markdown",
   "metadata": {},
   "source": [
    "Let's construct an OSM class on top of this overpy wrapper so that we can extract any data we want given a bounding box or\n",
    "we can even do it for districts or for other things."
   ]
  },
  {
   "cell_type": "code",
   "execution_count": null,
   "metadata": {},
   "outputs": [],
   "source": [
    "class OSM:\n",
    "\n",
    "    def __init__()"
   ]
  }
 ],
 "metadata": {
  "kernelspec": {
   "display_name": "mllearn",
   "language": "python",
   "name": "python3"
  },
  "language_info": {
   "codemirror_mode": {
    "name": "ipython",
    "version": 3
   },
   "file_extension": ".py",
   "mimetype": "text/x-python",
   "name": "python",
   "nbconvert_exporter": "python",
   "pygments_lexer": "ipython3",
   "version": "3.9.15"
  },
  "orig_nbformat": 4,
  "vscode": {
   "interpreter": {
    "hash": "02db7a3dcf4179c489456eb94e21388baeb50aaaca548f620f0ca724e91cd834"
   }
  }
 },
 "nbformat": 4,
 "nbformat_minor": 2
}
