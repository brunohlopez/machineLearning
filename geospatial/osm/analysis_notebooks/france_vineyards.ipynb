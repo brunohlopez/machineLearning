{
 "cells": [
  {
   "cell_type": "code",
   "execution_count": 2,
   "metadata": {},
   "outputs": [],
   "source": [
    "import requests\n",
    "import json\n",
    "import overpy as opy\n",
    "import pandas as pd\n",
    "import geopandas as gpd\n",
    "import osm2geojson\n",
    "import sys\n",
    "import matplotlib.pyplot as plt\n",
    "sys.path.append('..')\n",
    "import utils #import utils from the directory up above"
   ]
  },
  {
   "cell_type": "code",
   "execution_count": 2,
   "metadata": {},
   "outputs": [],
   "source": [
    "overpass_query = \"\"\"\n",
    "    [bbox:44.453388800301774,-0.56304931640625,46.240651955001695,2.3345947265625]\n",
    "    [timeout:25]\n",
    "    ;\n",
    "    (\n",
    "    node[\"landuse\"=\"vineyard\"];\n",
    "    way[\"landuse\"=\"vineyard\"];\n",
    "    relation[\"landuse\"=\"vineyard\"];\n",
    "    );\n",
    "    out center;\n",
    "    \"\"\""
   ]
  },
  {
   "cell_type": "code",
   "execution_count": 3,
   "metadata": {},
   "outputs": [],
   "source": [
    "france_vineyards = utils.OSMGeometries(overpass_query)"
   ]
  },
  {
   "attachments": {},
   "cell_type": "markdown",
   "metadata": {},
   "source": [
    "Call the function to get all of the ways nodes"
   ]
  },
  {
   "cell_type": "code",
   "execution_count": 22,
   "metadata": {},
   "outputs": [],
   "source": [
    "france_ways = france_vineyards.ways_dataframe()\n",
    "france_ways"
   ]
  },
  {
   "attachments": {},
   "cell_type": "markdown",
   "metadata": {},
   "source": [
    "I saved the above dataframe into a csv and will load it in. I will then construct geometries from these lons/lats and combine them into one dataframe"
   ]
  },
  {
   "cell_type": "code",
   "execution_count": 1,
   "metadata": {},
   "outputs": [
    {
     "ename": "NameError",
     "evalue": "name 'pd' is not defined",
     "output_type": "error",
     "traceback": [
      "\u001b[1;31m---------------------------------------------------------------------------\u001b[0m",
      "\u001b[1;31mNameError\u001b[0m                                 Traceback (most recent call last)",
      "Cell \u001b[1;32mIn[1], line 1\u001b[0m\n\u001b[1;32m----> 1\u001b[0m france_way_csv \u001b[39m=\u001b[39m pd\u001b[39m.\u001b[39mread_csv(\u001b[39mr\u001b[39m\u001b[39m'\u001b[39m\u001b[39mC:\u001b[39m\u001b[39m\\\u001b[39m\u001b[39mUsers\u001b[39m\u001b[39m\\\u001b[39m\u001b[39mbrunolopez\u001b[39m\u001b[39m\\\u001b[39m\u001b[39mmldata\u001b[39m\u001b[39m\\\u001b[39m\u001b[39mosm\u001b[39m\u001b[39m\\\u001b[39m\u001b[39mvineyards_ways.csv\u001b[39m\u001b[39m'\u001b[39m)\n\u001b[0;32m      2\u001b[0m france_way_shp \u001b[39m=\u001b[39m utils\u001b[39m.\u001b[39mcreate_ways_geometry(france_way_csv) \u001b[39m#from the utils package \u001b[39;00m\n",
      "\u001b[1;31mNameError\u001b[0m: name 'pd' is not defined"
     ]
    }
   ],
   "source": [
    "france_way_csv = pd.read_csv(r'C:\\Users\\brunolopez\\mldata\\osm\\vineyards_ways.csv')\n",
    "france_way_shp = utils.create_ways_geometry(france_way_csv) #from the utils package "
   ]
  },
  {
   "cell_type": "code",
   "execution_count": 6,
   "metadata": {},
   "outputs": [
    {
     "data": {
      "text/html": [
       "<div>\n",
       "<style scoped>\n",
       "    .dataframe tbody tr th:only-of-type {\n",
       "        vertical-align: middle;\n",
       "    }\n",
       "\n",
       "    .dataframe tbody tr th {\n",
       "        vertical-align: top;\n",
       "    }\n",
       "\n",
       "    .dataframe thead th {\n",
       "        text-align: right;\n",
       "    }\n",
       "</style>\n",
       "<table border=\"1\" class=\"dataframe\">\n",
       "  <thead>\n",
       "    <tr style=\"text-align: right;\">\n",
       "      <th></th>\n",
       "      <th>minx</th>\n",
       "      <th>miny</th>\n",
       "      <th>maxx</th>\n",
       "      <th>maxy</th>\n",
       "    </tr>\n",
       "  </thead>\n",
       "  <tbody>\n",
       "    <tr>\n",
       "      <th>0</th>\n",
       "      <td>1.127947</td>\n",
       "      <td>45.835296</td>\n",
       "      <td>1.132545</td>\n",
       "      <td>45.837181</td>\n",
       "    </tr>\n",
       "    <tr>\n",
       "      <th>1</th>\n",
       "      <td>-0.579974</td>\n",
       "      <td>44.704377</td>\n",
       "      <td>-0.553477</td>\n",
       "      <td>44.722783</td>\n",
       "    </tr>\n",
       "    <tr>\n",
       "      <th>2</th>\n",
       "      <td>-0.566271</td>\n",
       "      <td>44.749425</td>\n",
       "      <td>-0.552598</td>\n",
       "      <td>44.757457</td>\n",
       "    </tr>\n",
       "    <tr>\n",
       "      <th>3</th>\n",
       "      <td>-0.561664</td>\n",
       "      <td>44.739733</td>\n",
       "      <td>-0.542101</td>\n",
       "      <td>44.749957</td>\n",
       "    </tr>\n",
       "    <tr>\n",
       "      <th>4</th>\n",
       "      <td>-0.568416</td>\n",
       "      <td>44.724481</td>\n",
       "      <td>-0.550787</td>\n",
       "      <td>44.739786</td>\n",
       "    </tr>\n",
       "  </tbody>\n",
       "</table>\n",
       "</div>"
      ],
      "text/plain": [
       "       minx       miny      maxx       maxy\n",
       "0  1.127947  45.835296  1.132545  45.837181\n",
       "1 -0.579974  44.704377 -0.553477  44.722783\n",
       "2 -0.566271  44.749425 -0.552598  44.757457\n",
       "3 -0.561664  44.739733 -0.542101  44.749957\n",
       "4 -0.568416  44.724481 -0.550787  44.739786"
      ]
     },
     "execution_count": 6,
     "metadata": {},
     "output_type": "execute_result"
    }
   ],
   "source": [
    "france_way_shp[:5].bounds"
   ]
  },
  {
   "cell_type": "markdown",
   "metadata": {},
   "source": [
    "Next I uploaded the polygons that were created here to GEE and I will use for the next part of the analysis"
   ]
  },
  {
   "attachments": {},
   "cell_type": "markdown",
   "metadata": {},
   "source": [
    "The next part of this analysis will require the geemap package, which requires a Google Earth Engine account. This will allow us to use Sentinel and Landsat \n",
    "data as well as other datasets that google earth engine has"
   ]
  },
  {
   "cell_type": "code",
   "execution_count": 16,
   "metadata": {},
   "outputs": [
    {
     "data": {
      "text/html": [
       "<p>To authorize access needed by Earth Engine, open the following\n",
       "        URL in a web browser and follow the instructions:</p>\n",
       "        <p><a href=https://code.earthengine.google.com/client-auth?scopes=https%3A//www.googleapis.com/auth/earthengine%20https%3A//www.googleapis.com/auth/devstorage.full_control&request_id=7jhphtZbvYuZaOBTw3kQ5ITjJsOdc3QePNeRsh3W598&tc=FEL5tT--mcSruqVk6ciTrsnbO2JWzU7W8GqGw_prOp4&cc=_gre3ieeqEHcQ7Wv40pvslGr--cqqMdTnkgaJJE5-UI>https://code.earthengine.google.com/client-auth?scopes=https%3A//www.googleapis.com/auth/earthengine%20https%3A//www.googleapis.com/auth/devstorage.full_control&request_id=7jhphtZbvYuZaOBTw3kQ5ITjJsOdc3QePNeRsh3W598&tc=FEL5tT--mcSruqVk6ciTrsnbO2JWzU7W8GqGw_prOp4&cc=_gre3ieeqEHcQ7Wv40pvslGr--cqqMdTnkgaJJE5-UI</a></p>\n",
       "        <p>The authorization workflow will generate a code, which you should paste in the box below.</p>\n",
       "        "
      ],
      "text/plain": [
       "<IPython.core.display.HTML object>"
      ]
     },
     "metadata": {},
     "output_type": "display_data"
    },
    {
     "name": "stdout",
     "output_type": "stream",
     "text": [
      "\n",
      "Successfully saved authorization token.\n"
     ]
    }
   ],
   "source": [
    "import geemap\n",
    "import ee\n",
    "\n",
    "ee.Authenticate() #uncomment if first time running script.\n",
    "ee.Initialize()"
   ]
  },
  {
   "cell_type": "code",
   "execution_count": 17,
   "metadata": {},
   "outputs": [
    {
     "data": {
      "application/vnd.jupyter.widget-view+json": {
       "model_id": "2cf06b552adc4291a698c72fd9181fb4",
       "version_major": 2,
       "version_minor": 0
      },
      "text/plain": [
       "Map(center=[20, 0], controls=(WidgetControl(options=['position', 'transparent_bg'], widget=HBox(children=(Togg…"
      ]
     },
     "execution_count": 17,
     "metadata": {},
     "output_type": "execute_result"
    }
   ],
   "source": [
    "Map = geemap.Map()\n",
    "Map"
   ]
  },
  {
   "attachments": {},
   "cell_type": "markdown",
   "metadata": {},
   "source": [
    "Let's load in the polygons from the earlier analysis from before."
   ]
  },
  {
   "cell_type": "code",
   "execution_count": 19,
   "metadata": {},
   "outputs": [
    {
     "data": {
      "application/vnd.jupyter.widget-view+json": {
       "model_id": "2cf06b552adc4291a698c72fd9181fb4",
       "version_major": 2,
       "version_minor": 0
      },
      "text/plain": [
       "Map(bottom=556.0, center=[-85.0511287798066, 160.31250000000003], controls=(WidgetControl(options=['position',…"
      ]
     },
     "execution_count": 19,
     "metadata": {},
     "output_type": "execute_result"
    }
   ],
   "source": [
    "france_vineyards = ee.FeatureCollection('projects/ee-brunohlope/assets/vineyards_polygons')\n",
    "Map.addLayer(france_vineyards, {} , 'Vineyards')\n",
    "Map.centerObject(france_vineyards) #View where the map is \n",
    "Map"
   ]
  },
  {
   "attachments": {},
   "cell_type": "markdown",
   "metadata": {},
   "source": [
    "## The Fun\n",
    "\n",
    "Let's grab some Sentinel-2 Imagery for these polygons and overlay them with our image."
   ]
  },
  {
   "cell_type": "code",
   "execution_count": null,
   "metadata": {},
   "outputs": [],
   "source": []
  }
 ],
 "metadata": {
  "kernelspec": {
   "display_name": "mllearn",
   "language": "python",
   "name": "python3"
  },
  "language_info": {
   "codemirror_mode": {
    "name": "ipython",
    "version": 3
   },
   "file_extension": ".py",
   "mimetype": "text/x-python",
   "name": "python",
   "nbconvert_exporter": "python",
   "pygments_lexer": "ipython3",
   "version": "3.9.16"
  },
  "orig_nbformat": 4,
  "vscode": {
   "interpreter": {
    "hash": "02db7a3dcf4179c489456eb94e21388baeb50aaaca548f620f0ca724e91cd834"
   }
  }
 },
 "nbformat": 4,
 "nbformat_minor": 2
}
