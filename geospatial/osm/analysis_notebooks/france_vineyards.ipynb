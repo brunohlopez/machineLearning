{
 "cells": [
  {
   "cell_type": "code",
   "execution_count": 13,
   "metadata": {},
   "outputs": [],
   "source": [
    "import requests\n",
    "import json\n",
    "import overpy as opy\n",
    "import pandas as pd\n",
    "import geopandas as gpd\n",
    "import osm2geojson\n",
    "import sys\n",
    "import matplotlib.pyplot as plt\n",
    "sys.path.append('..')\n",
    "import utils #import utils from the directory up above"
   ]
  },
  {
   "cell_type": "code",
   "execution_count": 18,
   "metadata": {},
   "outputs": [],
   "source": [
    "overpass_query = \"\"\"\n",
    "    [bbox:44.453388800301774,-0.56304931640625,46.240651955001695,2.3345947265625]\n",
    "    [timeout:25]\n",
    "    ;\n",
    "    (\n",
    "    node[\"landuse\"=\"vineyard\"];\n",
    "    way[\"landuse\"=\"vineyard\"];\n",
    "    relation[\"landuse\"=\"vineyard\"];\n",
    "    );\n",
    "    out center;\n",
    "    \"\"\""
   ]
  },
  {
   "cell_type": "code",
   "execution_count": 19,
   "metadata": {},
   "outputs": [],
   "source": [
    "france_vineyards = utils.OSMGeometries(overpass_query)"
   ]
  },
  {
   "attachments": {},
   "cell_type": "markdown",
   "metadata": {},
   "source": [
    "Call the function to get all of the ways nodes"
   ]
  },
  {
   "cell_type": "code",
   "execution_count": 22,
   "metadata": {},
   "outputs": [],
   "source": [
    "france_ways = france_vineyards.ways_dataframe()\n",
    "france_ways"
   ]
  },
  {
   "attachments": {},
   "cell_type": "markdown",
   "metadata": {},
   "source": [
    "I saved the above dataframe into a csv and will load it in. I will then construct geometries from these lons/lats and combine them into one dataframe"
   ]
  },
  {
   "cell_type": "code",
   "execution_count": 10,
   "metadata": {},
   "outputs": [],
   "source": [
    "france_way_csv = pd.read_csv(r'C:\\Users\\brunolopez\\mldata\\osm\\vineyards_ways.csv')\n",
    "france_way_shp = utils.create_ways_geometry(france_way_csv) #from the utils package "
   ]
  },
  {
   "attachments": {},
   "cell_type": "markdown",
   "metadata": {},
   "source": [
    "The next part of this analysis will require the geemap package, which requires a Google Earth Engine account. This will allow us to use Sentinel and Landsat \n",
    "data as well as other datasets that google earth engine has"
   ]
  },
  {
   "cell_type": "code",
   "execution_count": 1,
   "metadata": {},
   "outputs": [
    {
     "data": {
      "text/html": [
       "<p>To authorize access needed by Earth Engine, open the following\n",
       "        URL in a web browser and follow the instructions:</p>\n",
       "        <p><a href=https://code.earthengine.google.com/client-auth?scopes=https%3A//www.googleapis.com/auth/earthengine%20https%3A//www.googleapis.com/auth/devstorage.full_control&request_id=yWxFcjGxIbFSWWQZcdQS7ZRL4uDgEV_7nDMm3GKvZqY&tc=Q-yoIsNaCvLRE0O5bPMG_yFTdUGjfAIH0_SrfF68Za4&cc=L05rr5ALkPLX79hdgh_aUlOnew2qUuehu3pvWKetECk>https://code.earthengine.google.com/client-auth?scopes=https%3A//www.googleapis.com/auth/earthengine%20https%3A//www.googleapis.com/auth/devstorage.full_control&request_id=yWxFcjGxIbFSWWQZcdQS7ZRL4uDgEV_7nDMm3GKvZqY&tc=Q-yoIsNaCvLRE0O5bPMG_yFTdUGjfAIH0_SrfF68Za4&cc=L05rr5ALkPLX79hdgh_aUlOnew2qUuehu3pvWKetECk</a></p>\n",
       "        <p>The authorization workflow will generate a code, which you should paste in the box below.</p>\n",
       "        "
      ],
      "text/plain": [
       "<IPython.core.display.HTML object>"
      ]
     },
     "metadata": {},
     "output_type": "display_data"
    },
    {
     "name": "stdout",
     "output_type": "stream",
     "text": [
      "\n",
      "Successfully saved authorization token.\n"
     ]
    }
   ],
   "source": [
    "import geemap\n",
    "import ee\n",
    "\n",
    "ee.Authenticate()\n",
    "ee.Initialize()"
   ]
  },
  {
   "cell_type": "code",
   "execution_count": 2,
   "metadata": {},
   "outputs": [
    {
     "data": {
      "application/vnd.jupyter.widget-view+json": {
       "model_id": "f3f9f43d05ca4f24b74a58a53132dc97",
       "version_major": 2,
       "version_minor": 0
      },
      "text/plain": [
       "Map(center=[20, 0], controls=(WidgetControl(options=['position', 'transparent_bg'], widget=HBox(children=(Togg…"
      ]
     },
     "metadata": {},
     "output_type": "display_data"
    }
   ],
   "source": [
    "Map = geemap.Map()\n",
    "Map"
   ]
  },
  {
   "cell_type": "code",
   "execution_count": null,
   "metadata": {},
   "outputs": [],
   "source": []
  }
 ],
 "metadata": {
  "kernelspec": {
   "display_name": "mllearn",
   "language": "python",
   "name": "python3"
  },
  "language_info": {
   "codemirror_mode": {
    "name": "ipython",
    "version": 3
   },
   "file_extension": ".py",
   "mimetype": "text/x-python",
   "name": "python",
   "nbconvert_exporter": "python",
   "pygments_lexer": "ipython3",
   "version": "3.9.15"
  },
  "orig_nbformat": 4,
  "vscode": {
   "interpreter": {
    "hash": "02db7a3dcf4179c489456eb94e21388baeb50aaaca548f620f0ca724e91cd834"
   }
  }
 },
 "nbformat": 4,
 "nbformat_minor": 2
}
