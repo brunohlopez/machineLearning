{
 "cells": [
  {
   "cell_type": "code",
   "execution_count": 8,
   "metadata": {},
   "outputs": [],
   "source": [
    "import requests\n",
    "import json\n",
    "import overpy as opy\n",
    "import pandas as pd\n",
    "import geopandas as gpd\n",
    "import osm2geojson\n",
    "import sys\n",
    "import matplotlib.pyplot as plt\n",
    "sys.path.append('..')\n",
    "import utils #import utils from the directory up above"
   ]
  },
  {
   "cell_type": "code",
   "execution_count": 2,
   "metadata": {},
   "outputs": [],
   "source": [
    "overpass_query = \"\"\"\n",
    "    [bbox:44.453388800301774,-0.56304931640625,46.240651955001695,2.3345947265625]\n",
    "    [timeout:25]\n",
    "    ;\n",
    "    (\n",
    "    node[\"landuse\"=\"vineyard\"];\n",
    "    way[\"landuse\"=\"vineyard\"];\n",
    "    relation[\"landuse\"=\"vineyard\"];\n",
    "    );\n",
    "    out center;\n",
    "    \"\"\""
   ]
  },
  {
   "cell_type": "code",
   "execution_count": 3,
   "metadata": {},
   "outputs": [],
   "source": [
    "france_vineyards = utils.OSMGeometries(overpass_query)"
   ]
  },
  {
   "attachments": {},
   "cell_type": "markdown",
   "metadata": {},
   "source": [
    "Call the function to get all of the ways nodes"
   ]
  },
  {
   "cell_type": "code",
   "execution_count": 22,
   "metadata": {},
   "outputs": [],
   "source": [
    "france_ways = france_vineyards.ways_dataframe()\n",
    "france_ways"
   ]
  },
  {
   "attachments": {},
   "cell_type": "markdown",
   "metadata": {},
   "source": [
    "I saved the above dataframe into a csv and will load it in. I will then construct geometries from these lons/lats and combine them into one dataframe"
   ]
  },
  {
   "cell_type": "code",
   "execution_count": 10,
   "metadata": {},
   "outputs": [],
   "source": [
    "france_way_csv = pd.read_csv(r'C:\\Users\\brunolopez\\mldata\\osm\\vineyards_ways.csv')\n",
    "france_way_shp = utils.create_ways_geometry(france_way_csv) #from the utils package "
   ]
  },
  {
   "attachments": {},
   "cell_type": "markdown",
   "metadata": {},
   "source": [
    "The next part of this analysis will require the geemap package, which requires a Google Earth Engine account. This will allow us to use Sentinel and Landsat \n",
    "data as well as other datasets that google earth engine has"
   ]
  },
  {
   "cell_type": "code",
   "execution_count": 10,
   "metadata": {},
   "outputs": [],
   "source": [
    "import geemap\n",
    "import ee\n",
    "\n",
    "#ee.Authenticate() uncomment if first time running script.\n",
    "ee.Initialize()"
   ]
  },
  {
   "cell_type": "code",
   "execution_count": 11,
   "metadata": {},
   "outputs": [
    {
     "data": {
      "application/vnd.jupyter.widget-view+json": {
       "model_id": "05f93bb0867243dea1c334887c9df985",
       "version_major": 2,
       "version_minor": 0
      },
      "text/plain": [
       "Map(center=[20, 0], controls=(WidgetControl(options=['position', 'transparent_bg'], widget=HBox(children=(Togg…"
      ]
     },
     "metadata": {},
     "output_type": "display_data"
    }
   ],
   "source": [
    "Map = geemap.Map()\n",
    "Map"
   ]
  },
  {
   "attachments": {},
   "cell_type": "markdown",
   "metadata": {},
   "source": [
    "Let's load in the polygons from the earlier analysis from before."
   ]
  },
  {
   "cell_type": "code",
   "execution_count": 17,
   "metadata": {},
   "outputs": [
    {
     "data": {
      "application/vnd.jupyter.widget-view+json": {
       "model_id": "05f93bb0867243dea1c334887c9df985",
       "version_major": 2,
       "version_minor": 0
      },
      "text/plain": [
       "Map(bottom=617.0, center=[-39.368279149160124, 28.125000000000004], controls=(WidgetControl(options=['position…"
      ]
     },
     "metadata": {},
     "output_type": "display_data"
    }
   ],
   "source": [
    "france_vineyards = ee.FeatureCollection('projects/ee-brunohlope/assets/vineyards_polygons')\n",
    "Map.addLayer(france_vineyards, {} , 'Vineyards')\n",
    "Map.centerObject(france_vineyards) #View where the map is \n",
    "Map"
   ]
  },
  {
   "attachments": {},
   "cell_type": "markdown",
   "metadata": {},
   "source": [
    "## The Fun\n",
    "\n",
    "Let's grab some Sentinel-2 Imagery for these polygons and overlay them with our image."
   ]
  },
  {
   "cell_type": "code",
   "execution_count": null,
   "metadata": {},
   "outputs": [],
   "source": []
  }
 ],
 "metadata": {
  "kernelspec": {
   "display_name": "mllearn",
   "language": "python",
   "name": "python3"
  },
  "language_info": {
   "codemirror_mode": {
    "name": "ipython",
    "version": 3
   },
   "file_extension": ".py",
   "mimetype": "text/x-python",
   "name": "python",
   "nbconvert_exporter": "python",
   "pygments_lexer": "ipython3",
   "version": "3.9.15 (main, Nov 24 2022, 14:39:17) [MSC v.1916 64 bit (AMD64)]"
  },
  "orig_nbformat": 4,
  "vscode": {
   "interpreter": {
    "hash": "02db7a3dcf4179c489456eb94e21388baeb50aaaca548f620f0ca724e91cd834"
   }
  }
 },
 "nbformat": 4,
 "nbformat_minor": 2
}
