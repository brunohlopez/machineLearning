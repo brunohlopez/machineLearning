{
 "cells": [
  {
   "cell_type": "code",
   "execution_count": null,
   "metadata": {
    "tags": []
   },
   "outputs": [],
   "source": [
    "import ee\n",
    "import geemap\n",
    "import random\n",
    "\n",
    "##uncomment if you need to authorize first before initalizing\n",
    "ee.Authenticate()\n",
    "\n",
    "# Initialize the Earth Engine module.\n",
    "ee.Initialize()"
   ]
  },
  {
   "cell_type": "code",
   "execution_count": 4,
   "metadata": {},
   "outputs": [
    {
     "data": {
      "text/html": [
       "\n",
       "            <style>\n",
       "                .geemap-dark {\n",
       "                    --jp-widgets-color: white;\n",
       "                    --jp-widgets-label-color: white;\n",
       "                    --jp-ui-font-color1: white;\n",
       "                    --jp-layout-color2: #454545;\n",
       "                    background-color: #383838;\n",
       "                }\n",
       "\n",
       "                .geemap-dark .jupyter-button {\n",
       "                    --jp-layout-color3: #383838;\n",
       "                }\n",
       "\n",
       "                .geemap-colab {\n",
       "                    background-color: var(--colab-primary-surface-color, white);\n",
       "                }\n",
       "\n",
       "                .geemap-colab .jupyter-button {\n",
       "                    --jp-layout-color3: var(--colab-primary-surface-color, white);\n",
       "                }\n",
       "            </style>\n",
       "            "
      ],
      "text/plain": [
       "<IPython.core.display.HTML object>"
      ]
     },
     "metadata": {},
     "output_type": "display_data"
    },
    {
     "data": {
      "application/vnd.jupyter.widget-view+json": {
       "model_id": "dd5c8374d95a40c6b6f3e2d41987e879",
       "version_major": 2,
       "version_minor": 0
      },
      "text/plain": [
       "Map(center=[40.096879771115425, -153.43249642925514], controls=(WidgetControl(options=['position', 'transparen…"
      ]
     },
     "metadata": {},
     "output_type": "display_data"
    }
   ],
   "source": [
    "def mask_s2_clouds(image):\n",
    "    \"\"\"Masks clouds in a Sentinel-2 image using the QA band.\"\"\"\n",
    "    qa = image.select('QA60')\n",
    "    cloud_bit_mask = 1 << 10\n",
    "    cirrus_bit_mask = 1 << 11\n",
    "    mask = qa.bitwiseAnd(cloud_bit_mask).eq(0).And(qa.bitwiseAnd(cirrus_bit_mask).eq(0))\n",
    "    return image.updateMask(mask).divide(10000)\n",
    "\n",
    "def calculate_ndvi(image):\n",
    "    \"\"\"Calculates NDVI for a Sentinel-2 image.\"\"\"\n",
    "    ndvi = image.normalizedDifference(['B8', 'B4']).rename('NDVI')\n",
    "    return image.addBands(ndvi)\n",
    "\n",
    "def calculate_ndwi(image):\n",
    "    \"\"\"Calculates the Normalized Difference Water Index (NDWI) for a Sentinel-2 image.\"\"\"\n",
    "    ndwi = image.normalizedDifference(['B8', 'B11']).rename('NDWI')\n",
    "    return image.addBands(ndwi)\n",
    "\n",
    "def calculate_evi(image):\n",
    "    \"\"\"Calculates the Enhanced Vegetation Index (EVI) for a Sentinel-2 image.\"\"\"\n",
    "    evi = image.expression(\n",
    "        '2.5 * ((NIR - RED) / (NIR + 6 * RED - 7.5 * BLUE + 1))', {\n",
    "            'NIR': image.select('B8'),\n",
    "            'RED': image.select('B4'),\n",
    "            'BLUE': image.select('B2')\n",
    "        }).rename('EVI')\n",
    "    return image.addBands(evi)\n",
    "\n",
    "def calculate_savi(image):\n",
    "    \"\"\"Calculates the Soil Adjusted Vegetation Index (SAVI) for a Sentinel-2 image.\"\"\"\n",
    "    savi = image.expression(\n",
    "        '(1 + L) * (NIR - RED) / (NIR + RED + L)', {\n",
    "            'NIR': image.select('B8'),\n",
    "            'RED': image.select('B4'),\n",
    "            'L': 0.5\n",
    "        }).rename('SAVI')\n",
    "    return image.addBands(savi)\n",
    "\n",
    "def calculate_ndmi(image):\n",
    "    \"\"\"Calculates the Normalized Difference Moisture Index (NDMI) for a Sentinel-2 image.\"\"\"\n",
    "    ndmi = image.normalizedDifference(['B8', 'B11']).rename('NDMI')\n",
    "    return image.addBands(ndmi)\n",
    "\n",
    "def calculate_nbr(image):\n",
    "    \"\"\"Calculates the Normalized Burn Ratio (NBR) for a Sentinel-2 image.\"\"\"\n",
    "    nbr = image.normalizedDifference(['B8', 'B12']).rename('NBR')\n",
    "    return image.addBands(nbr)\n",
    "\n",
    "def is_land(lat, lon):\n",
    "    \"\"\"Check if the coordinates are over land using MODIS land cover data.\"\"\"\n",
    "    landcover = ee.Image('MODIS/006/MCD12Q1/2019_01_01').select('LC_Type1')\n",
    "    point = ee.Geometry.Point([lon, lat])\n",
    "    land_mask = landcover.reduceRegion(ee.Reducer.first(), point, 30).get('LC_Type1').getInfo()\n",
    "    return land_mask != 0  # Returns True if it's land\n",
    "\n",
    "def random_location_map():\n",
    "    # Generate random latitude and longitude until it's over land.\n",
    "    is_land_point = False\n",
    "    while not is_land_point:\n",
    "        lat = random.uniform(-90, 90)\n",
    "        lon = random.uniform(-180, 180)\n",
    "        is_land_point = is_land(lat, lon)\n",
    "    \n",
    "    # Prepare the dataset with cloud masking and index calculations.\n",
    "    dataset = (ee.ImageCollection('COPERNICUS/S2_HARMONIZED')\n",
    "               .filterDate('2022-01-01', '2022-01-31')\n",
    "               .filter(ee.Filter.lt('CLOUDY_PIXEL_PERCENTAGE', 20))\n",
    "               .map(mask_s2_clouds)\n",
    "               .map(calculate_ndvi)\n",
    "               .map(calculate_ndwi)\n",
    "               .map(calculate_evi)\n",
    "               .map(calculate_savi)\n",
    "               .map(calculate_ndmi)\n",
    "               .map(calculate_nbr))\n",
    "    \n",
    "    # Create a geemap object.\n",
    "    m = geemap.Map()\n",
    "    m.set_center(lon, lat, 12)  # Set the center to the random coordinates\n",
    "    \n",
    "    # Visualization parameters for each index\n",
    "    ndvi_vis = {'min': 0, 'max': 1, 'palette': ['red', 'yellow', 'green']}\n",
    "    ndwi_vis = {'min': 0, 'max': 1, 'palette': ['brown', 'blue']}\n",
    "    evi_vis = {'min': 0, 'max': 1, 'palette': ['yellow', 'darkgreen']}\n",
    "    savi_vis = {'min': 0, 'max': 1, 'palette': ['brown', 'green']}\n",
    "    ndmi_vis = {'min': -1, 'max': 1, 'palette': ['yellow', 'blue']}\n",
    "    nbr_vis = {'min': -1, 'max': 1, 'palette': ['green', 'black']}\n",
    "    # RGB visualization parameters\n",
    "    rgb_vis = {'min': 0.0, 'max': 0.3, 'bands': ['B4', 'B3', 'B2']}\n",
    "    \n",
    "    # Add index layers to the map (assuming visualization parameters are defined)\n",
    "    m.add_layer(dataset.median().select('NDVI'), ndvi_vis, 'NDVI')\n",
    "    m.add_layer(dataset.median().select('NDWI'), ndwi_vis, 'NDWI')\n",
    "    m.add_layer(dataset.median().select('EVI'), evi_vis, 'EVI')\n",
    "    m.add_layer(dataset.median().select('SAVI'), savi_vis, 'SAVI')\n",
    "    m.add_layer(dataset.median().select('NDMI'), ndmi_vis, 'NDMI')\n",
    "    m.add_layer(dataset.median().select('NBR'), nbr_vis, 'NBR')\n",
    "    m.add_layer(dataset.median(), rgb_vis, 'RGB')\n",
    "\n",
    "    # Add layer control\n",
    "    m.add_layer_control()  # This automatically places it at the top right\n",
    "\n",
    "    return m\n",
    "\n",
    "# Call the function to display the map\n",
    "random_map = random_location_map()\n",
    "random_map\n"
   ]
  },
  {
   "cell_type": "markdown",
   "metadata": {},
   "source": [
    "Authenticate into GEE"
   ]
  },
  {
   "cell_type": "code",
   "execution_count": 4,
   "metadata": {
    "tags": []
   },
   "outputs": [
    {
     "data": {
      "text/html": [
       "\n",
       "            <style>\n",
       "                .geemap-dark {\n",
       "                    --jp-widgets-color: white;\n",
       "                    --jp-widgets-label-color: white;\n",
       "                    --jp-ui-font-color1: white;\n",
       "                    --jp-layout-color2: #454545;\n",
       "                    background-color: #383838;\n",
       "                }\n",
       "\n",
       "                .geemap-dark .jupyter-button {\n",
       "                    --jp-layout-color3: #383838;\n",
       "                }\n",
       "\n",
       "                .geemap-colab {\n",
       "                    background-color: var(--colab-primary-surface-color, white);\n",
       "                }\n",
       "\n",
       "                .geemap-colab .jupyter-button {\n",
       "                    --jp-layout-color3: var(--colab-primary-surface-color, white);\n",
       "                }\n",
       "            </style>\n",
       "            "
      ],
      "text/plain": [
       "<IPython.core.display.HTML object>"
      ]
     },
     "metadata": {},
     "output_type": "display_data"
    },
    {
     "name": "stdout",
     "output_type": "stream",
     "text": [
      "Generating URL...\n",
      "Downloading GIF image from https://earthengine.googleapis.com/v1/projects/earthengine-legacy/videoThumbnails/adda60b3203072916cb43f2381aaa3d6-8f35fbdbe35626043ab5a1957cc23db5:getPixels\n",
      "Please wait ...\n",
      "The GIF image has been saved to: c:\\path\\to\\export\\timelapse.gif\n"
     ]
    }
   ],
   "source": [
    "\n",
    "\n",
    "def create_timelapse(lon, lat, start_date, end_date, export_path, frame_per_second=10):\n",
    "    \"\"\"Creates a timelapse GIF for the given coordinates and time range.\"\"\"\n",
    "    # Define thFailed to load model class 'LeafletMapModel' from module 'jupyter-leaflet'\n",
    "\n",
    "    point = ee.Geometry.Point([lon, lat])\n",
    "    region = point.buffer(10000).bounds()  # Buffer the point to create an area around the coordinates\n",
    "    \n",
    "    # Load Sentinel-2 image collection\n",
    "    collection = (ee.ImageCollection('COPERNICUS/S2')\n",
    "                  .filterBounds(point)\n",
    "                  .filterDate(start_date, end_date)\n",
    "                  .filter(ee.Filter.lt('CLOUDY_PIXEL_PERCENTAGE', 30))  # Filter to reduce cloud cover\n",
    "                  .select(['B4', 'B3', 'B2']))  # Select RGB bands for true color images\n",
    "\n",
    "    # Prepare visualization parameters\n",
    "    vis_params = {\n",
    "        'min': 0,\n",
    "        'max': 3000,\n",
    "        'bands': ['B4', 'B3', 'B2']\n",
    "    }\n",
    "\n",
    "    # Set GIF arguments\n",
    "    video_args = {\n",
    "        'region': region,\n",
    "        'dimensions': 768,\n",
    "        'crs': 'EPSG:3857',\n",
    "        'framesPerSecond': frame_per_second,\n",
    "        'min': 0,\n",
    "        'max': 3000,\n",
    "        'format': 'gif'\n",
    "    }\n",
    "\n",
    "    # Generate and download the GIF\n",
    "    geemap.download_ee_video(collection, video_args, export_path)\n",
    "    \n",
    "    # Example usage\n",
    "lon = -117.1825\n",
    "lat = 34.0556\n",
    "start_date = '2019-01-01'\n",
    "end_date = '2019-12-31'\n",
    "export_path = '/path/to/export/timelapse.gif'\n",
    "create_timelapse(lon, lat, start_date, end_date, export_path)"
   ]
  },
  {
   "cell_type": "code",
   "execution_count": 22,
   "metadata": {
    "tags": []
   },
   "outputs": [
    {
     "data": {
      "text/html": [
       "\n",
       "            <style>\n",
       "                .geemap-dark {\n",
       "                    --jp-widgets-color: white;\n",
       "                    --jp-widgets-label-color: white;\n",
       "                    --jp-ui-font-color1: white;\n",
       "                    --jp-layout-color2: #454545;\n",
       "                    background-color: #383838;\n",
       "                }\n",
       "\n",
       "                .geemap-dark .jupyter-button {\n",
       "                    --jp-layout-color3: #383838;\n",
       "                }\n",
       "\n",
       "                .geemap-colab {\n",
       "                    background-color: var(--colab-primary-surface-color, white);\n",
       "                }\n",
       "\n",
       "                .geemap-colab .jupyter-button {\n",
       "                    --jp-layout-color3: var(--colab-primary-surface-color, white);\n",
       "                }\n",
       "            </style>\n",
       "            "
      ],
      "text/plain": [
       "<IPython.core.display.HTML object>"
      ]
     },
     "metadata": {},
     "output_type": "display_data"
    },
    {
     "name": "stdout",
     "output_type": "stream",
     "text": [
      "Generating URL...\n",
      "Downloading GIF image from https://earthengine.googleapis.com/v1/projects/earthengine-legacy/videoThumbnails/b3d580edb56c1e87d3e987b1fae4a94b-e078fbab9a2397db3a17aa39fafd21c6:getPixels\n",
      "Please wait ...\n",
      "The GIF image has been saved to: c:\\Users\\brunolopez\\machineLearning\\geospatial\\multispectral\\sentinel1.gif\n"
     ]
    }
   ],
   "source": [
    "Map = geemap.Map()\n",
    "Map\n",
    "\n",
    "roi = Map.user_roi\n",
    "if roi is None:\n",
    "    roi = ee.Geometry.BBox(117.1132, 3.5227, 117.2214, 3.5843)\n",
    "    Map.addLayer(roi)\n",
    "    Map.centerObject(roi)\n",
    "\n",
    "timelapse = geemap.sentinel1_timelapse(\n",
    "    roi,\n",
    "    out_gif=\"sentinel1.gif\",\n",
    "    start_year=2023,\n",
    "    end_year=2023,\n",
    "    start_date=\"01-01\",\n",
    "    end_date=\"12-31\",\n",
    "    frequency=\"day\",\n",
    "    vis_params={\"min\": -30, \"max\": 0},\n",
    "    palette=\"Greys\",\n",
    "    frames_per_second=1,\n",
    "    title=\"Sentinel-1 Timelapse\",\n",
    "    add_colorbar=True,\n",
    "    colorbar_bg_color=\"gray\",\n",
    ")"
   ]
  },
  {
   "cell_type": "code",
   "execution_count": 27,
   "metadata": {},
   "outputs": [
    {
     "data": {
      "text/html": [
       "\n",
       "            <style>\n",
       "                .geemap-dark {\n",
       "                    --jp-widgets-color: white;\n",
       "                    --jp-widgets-label-color: white;\n",
       "                    --jp-ui-font-color1: white;\n",
       "                    --jp-layout-color2: #454545;\n",
       "                    background-color: #383838;\n",
       "                }\n",
       "\n",
       "                .geemap-dark .jupyter-button {\n",
       "                    --jp-layout-color3: #383838;\n",
       "                }\n",
       "\n",
       "                .geemap-colab {\n",
       "                    background-color: var(--colab-primary-surface-color, white);\n",
       "                }\n",
       "\n",
       "                .geemap-colab .jupyter-button {\n",
       "                    --jp-layout-color3: var(--colab-primary-surface-color, white);\n",
       "                }\n",
       "            </style>\n",
       "            "
      ],
      "text/plain": [
       "<IPython.core.display.HTML object>"
      ]
     },
     "metadata": {},
     "output_type": "display_data"
    },
    {
     "name": "stdout",
     "output_type": "stream",
     "text": [
      "Generating URL...\n",
      "Downloading GIF image from https://earthengine.googleapis.com/v1/projects/earthengine-legacy/videoThumbnails/d4f1cde95eab52f43755a2def7bb845d-d9c300f4307f0c5840044706d00fb095:getPixels\n",
      "Please wait ...\n",
      "The GIF image has been saved to: c:\\Users\\brunolopez\\machineLearning\\geospatial\\multispectral\\sentinel2.gif\n"
     ]
    }
   ],
   "source": [
    "timelapse2 = geemap.sentinel2_timelapse(\n",
    "    roi,\n",
    "    out_gif=\"sentinel2.gif\",\n",
    "    start_year=2023,\n",
    "    bands = ['Red', 'Green', 'Blue'],\n",
    "    end_year=2023,\n",
    "    start_date=\"01-01\",\n",
    "    apply_fmask = False,\n",
    "    end_date=\"12-31\",\n",
    "    frequency=\"day\",\n",
    "    frames_per_second=1,\n",
    "    title=\"Sentinel-2 Timelapse\"\n",
    ")"
   ]
  },
  {
   "cell_type": "code",
   "execution_count": 32,
   "metadata": {},
   "outputs": [
    {
     "data": {
      "text/html": [
       "\n",
       "            <style>\n",
       "                .geemap-dark {\n",
       "                    --jp-widgets-color: white;\n",
       "                    --jp-widgets-label-color: white;\n",
       "                    --jp-ui-font-color1: white;\n",
       "                    --jp-layout-color2: #454545;\n",
       "                    background-color: #383838;\n",
       "                }\n",
       "\n",
       "                .geemap-dark .jupyter-button {\n",
       "                    --jp-layout-color3: #383838;\n",
       "                }\n",
       "\n",
       "                .geemap-colab {\n",
       "                    background-color: var(--colab-primary-surface-color, white);\n",
       "                }\n",
       "\n",
       "                .geemap-colab .jupyter-button {\n",
       "                    --jp-layout-color3: var(--colab-primary-surface-color, white);\n",
       "                }\n",
       "            </style>\n",
       "            "
      ],
      "text/plain": [
       "<IPython.core.display.HTML object>"
      ]
     },
     "metadata": {},
     "output_type": "display_data"
    }
   ],
   "source": [
    "import imageio\n",
    "from PIL import Image\n",
    "\n",
    "def merge_gifs(gif1_path, gif2_path, output_path):\n",
    "    # Load the two GIFs\n",
    "    gif1 = imageio.mimread(gif1_path)\n",
    "    gif2 = imageio.mimread(gif2_path)\n",
    "    \n",
    "    # Assume both GIFs have the same number of frames and same duration settings\n",
    "    new_frames = []\n",
    "    for img1, img2 in zip(gif1, gif2):\n",
    "        # Convert to PIL images to stack\n",
    "        img1_pil = Image.fromarray(img1)\n",
    "        img2_pil = Image.fromarray(img2)\n",
    "        \n",
    "        # Get dimensions\n",
    "        width1, height1 = img1_pil.size\n",
    "        width2, height2 = img2_pil.size\n",
    "        \n",
    "        # Ensure the images are the same width for a vertical stack\n",
    "        new_width = max(width1, width2)\n",
    "        \n",
    "        # Resize images if they are not the same width\n",
    "        if width1 != new_width:\n",
    "            img1_pil = img1_pil.resize((new_width, height1))\n",
    "        if width2 != new_width:\n",
    "            img2_pil = img2_pil.resize((new_width, height2))\n",
    "        \n",
    "        # Create new image with appropriate height\n",
    "        total_height = height1 + height2\n",
    "        new_img = Image.new('RGB', (new_width, total_height))\n",
    "        \n",
    "        # Paste images into new image\n",
    "        new_img.paste(img1_pil, (0, 0))\n",
    "        new_img.paste(img2_pil, (0, height1))\n",
    "        \n",
    "        # Append to frames\n",
    "        new_frames.append(new_img)\n",
    "    \n",
    "    # Save stacked images as a new GIF\n",
    "    new_frames[0].save(output_path, save_all=True, append_images=new_frames[1:], loop=0, duration=0.6)\n",
    "\n",
    "\n",
    "# Usage\n",
    "merge_gifs(r'C:\\Users\\brunolopez\\machineLearning\\geospatial\\multispectral\\sentinel1.gif', r'C:\\Users\\brunolopez\\machineLearning\\geospatial\\multispectral\\sentinel2.gif', r'C:\\Users\\brunolopez\\machineLearning\\geospatial\\multispectral\\sentinel1_2.gif')\n"
   ]
  },
  {
   "cell_type": "code",
   "execution_count": 34,
   "metadata": {},
   "outputs": [
    {
     "data": {
      "text/html": [
       "\n",
       "            <style>\n",
       "                .geemap-dark {\n",
       "                    --jp-widgets-color: white;\n",
       "                    --jp-widgets-label-color: white;\n",
       "                    --jp-ui-font-color1: white;\n",
       "                    --jp-layout-color2: #454545;\n",
       "                    background-color: #383838;\n",
       "                }\n",
       "\n",
       "                .geemap-dark .jupyter-button {\n",
       "                    --jp-layout-color3: #383838;\n",
       "                }\n",
       "\n",
       "                .geemap-colab {\n",
       "                    background-color: var(--colab-primary-surface-color, white);\n",
       "                }\n",
       "\n",
       "                .geemap-colab .jupyter-button {\n",
       "                    --jp-layout-color3: var(--colab-primary-surface-color, white);\n",
       "                }\n",
       "            </style>\n",
       "            "
      ],
      "text/plain": [
       "<IPython.core.display.HTML object>"
      ]
     },
     "metadata": {},
     "output_type": "display_data"
    },
    {
     "name": "stdout",
     "output_type": "stream",
     "text": [
      "Error processing ROI: Geometry.centroid: Unable to perform this geometry operation. Please specify a non-zero error margin.\n"
     ]
    },
    {
     "ename": "AttributeError",
     "evalue": "'SentinelTimelapse' object has no attribute 'location'",
     "output_type": "error",
     "traceback": [
      "\u001b[1;31m---------------------------------------------------------------------------\u001b[0m",
      "\u001b[1;31mAttributeError\u001b[0m                            Traceback (most recent call last)",
      "Cell \u001b[1;32mIn[34], line 64\u001b[0m\n\u001b[0;32m     62\u001b[0m s1_gif_path \u001b[38;5;241m=\u001b[39m \u001b[38;5;124m\"\u001b[39m\u001b[38;5;124msentinel1.gif\u001b[39m\u001b[38;5;124m\"\u001b[39m\n\u001b[0;32m     63\u001b[0m s2_gif_path \u001b[38;5;241m=\u001b[39m \u001b[38;5;124m\"\u001b[39m\u001b[38;5;124msentinel2.gif\u001b[39m\u001b[38;5;124m\"\u001b[39m\n\u001b[1;32m---> 64\u001b[0m \u001b[43mtimelapse_creator\u001b[49m\u001b[38;5;241;43m.\u001b[39;49m\u001b[43mcreate_timelapse_s1\u001b[49m\u001b[43m(\u001b[49m\u001b[43ms1_gif_path\u001b[49m\u001b[43m)\u001b[49m\n\u001b[0;32m     65\u001b[0m timelapse_creator\u001b[38;5;241m.\u001b[39mcreate_timelapse_s2(s2_gif_path)\n",
      "Cell \u001b[1;32mIn[34], line 38\u001b[0m, in \u001b[0;36mSentinelTimelapse.create_timelapse_s1\u001b[1;34m(self, out_gif, start_year, end_year, frequency, fps)\u001b[0m\n\u001b[0;32m     25\u001b[0m \u001b[38;5;28;01mdef\u001b[39;00m \u001b[38;5;21mcreate_timelapse_s1\u001b[39m(\u001b[38;5;28mself\u001b[39m, out_gif, start_year\u001b[38;5;241m=\u001b[39m\u001b[38;5;241m2023\u001b[39m, end_year\u001b[38;5;241m=\u001b[39m\u001b[38;5;241m2023\u001b[39m, frequency\u001b[38;5;241m=\u001b[39m\u001b[38;5;124m'\u001b[39m\u001b[38;5;124mday\u001b[39m\u001b[38;5;124m'\u001b[39m, fps\u001b[38;5;241m=\u001b[39m\u001b[38;5;241m1\u001b[39m):\n\u001b[0;32m     26\u001b[0m \u001b[38;5;250m    \u001b[39m\u001b[38;5;124;03m\"\"\"Creates a Sentinel-1 timelapse.\"\"\"\u001b[39;00m\n\u001b[0;32m     27\u001b[0m     \u001b[38;5;28;01mreturn\u001b[39;00m geemap\u001b[38;5;241m.\u001b[39msentinel1_timelapse(\n\u001b[0;32m     28\u001b[0m         \u001b[38;5;28mself\u001b[39m\u001b[38;5;241m.\u001b[39mroi,\n\u001b[0;32m     29\u001b[0m         out_gif\u001b[38;5;241m=\u001b[39mout_gif,\n\u001b[0;32m     30\u001b[0m         start_year\u001b[38;5;241m=\u001b[39mstart_year,\n\u001b[0;32m     31\u001b[0m         end_year\u001b[38;5;241m=\u001b[39mend_year,\n\u001b[0;32m     32\u001b[0m         start_date\u001b[38;5;241m=\u001b[39m\u001b[38;5;124m\"\u001b[39m\u001b[38;5;124m01-01\u001b[39m\u001b[38;5;124m\"\u001b[39m,\n\u001b[0;32m     33\u001b[0m         end_date\u001b[38;5;241m=\u001b[39m\u001b[38;5;124m\"\u001b[39m\u001b[38;5;124m12-31\u001b[39m\u001b[38;5;124m\"\u001b[39m,\n\u001b[0;32m     34\u001b[0m         frequency\u001b[38;5;241m=\u001b[39mfrequency,\n\u001b[0;32m     35\u001b[0m         vis_params\u001b[38;5;241m=\u001b[39m{\u001b[38;5;124m\"\u001b[39m\u001b[38;5;124mmin\u001b[39m\u001b[38;5;124m\"\u001b[39m: \u001b[38;5;241m-\u001b[39m\u001b[38;5;241m30\u001b[39m, \u001b[38;5;124m\"\u001b[39m\u001b[38;5;124mmax\u001b[39m\u001b[38;5;124m\"\u001b[39m: \u001b[38;5;241m0\u001b[39m},\n\u001b[0;32m     36\u001b[0m         palette\u001b[38;5;241m=\u001b[39m\u001b[38;5;124m\"\u001b[39m\u001b[38;5;124mGreys\u001b[39m\u001b[38;5;124m\"\u001b[39m,\n\u001b[0;32m     37\u001b[0m         frames_per_second\u001b[38;5;241m=\u001b[39mfps,\n\u001b[1;32m---> 38\u001b[0m         title\u001b[38;5;241m=\u001b[39m\u001b[38;5;124mf\u001b[39m\u001b[38;5;124m\"\u001b[39m\u001b[38;5;124mSentinel-1 Timelapse - \u001b[39m\u001b[38;5;132;01m{\u001b[39;00m\u001b[38;5;28;43mself\u001b[39;49m\u001b[38;5;241;43m.\u001b[39;49m\u001b[43mlocation\u001b[49m[\u001b[38;5;124m'\u001b[39m\u001b[38;5;124mcity\u001b[39m\u001b[38;5;124m'\u001b[39m]\u001b[38;5;132;01m}\u001b[39;00m\u001b[38;5;124m, \u001b[39m\u001b[38;5;132;01m{\u001b[39;00m\u001b[38;5;28mself\u001b[39m\u001b[38;5;241m.\u001b[39mlocation[\u001b[38;5;124m'\u001b[39m\u001b[38;5;124mcountry\u001b[39m\u001b[38;5;124m'\u001b[39m]\u001b[38;5;132;01m}\u001b[39;00m\u001b[38;5;124m\"\u001b[39m,\n\u001b[0;32m     39\u001b[0m         add_colorbar\u001b[38;5;241m=\u001b[39m\u001b[38;5;28;01mTrue\u001b[39;00m,\n\u001b[0;32m     40\u001b[0m         colorbar_bg_color\u001b[38;5;241m=\u001b[39m\u001b[38;5;124m\"\u001b[39m\u001b[38;5;124mgray\u001b[39m\u001b[38;5;124m\"\u001b[39m\n\u001b[0;32m     41\u001b[0m     )\n",
      "\u001b[1;31mAttributeError\u001b[0m: 'SentinelTimelapse' object has no attribute 'location'"
     ]
    }
   ],
   "source": [
    "import ee\n",
    "import geemap\n",
    "import reverse_geocode\n",
    "\n",
    "ee.Initialize()\n",
    "\n",
    "class SentinelTimelapse:\n",
    "    def __init__(self, roi):\n",
    "        self.Map = geemap.Map()\n",
    "        if roi is None:\n",
    "            # Default ROI if none provided\n",
    "            self.roi = ee.Geometry.BBox(117.1132, 3.5227, 117.2214, 3.5843)\n",
    "        else:\n",
    "            self.roi = roi\n",
    "\n",
    "        try:\n",
    "            self.Map.addLayer(self.roi, {}, \"ROI\")\n",
    "            self.Map.centerObject(self.roi)\n",
    "            roi_center = self.roi.centroid().coordinates().getInfo()\n",
    "            roi_center = (roi_center[1], roi_center[0])  # Lat, Lon\n",
    "            self.location = reverse_geocode.search([roi_center])[0]\n",
    "        except ee.EEException as e:\n",
    "            print(f\"Error processing ROI: {e}\")\n",
    "\n",
    "    def create_timelapse_s1(self, out_gif, start_year=2023, end_year=2023, frequency='day', fps=1):\n",
    "        \"\"\"Creates a Sentinel-1 timelapse.\"\"\"\n",
    "        return geemap.sentinel1_timelapse(\n",
    "            self.roi,\n",
    "            out_gif=out_gif,\n",
    "            start_year=start_year,\n",
    "            end_year=end_year,\n",
    "            start_date=\"01-01\",\n",
    "            end_date=\"12-31\",\n",
    "            frequency=frequency,\n",
    "            vis_params={\"min\": -30, \"max\": 0},\n",
    "            palette=\"Greys\",\n",
    "            frames_per_second=fps,\n",
    "            title=f\"Sentinel-1 Timelapse - {self.location['city']}, {self.location['country']}\",\n",
    "            add_colorbar=True,\n",
    "            colorbar_bg_color=\"gray\"\n",
    "        )\n",
    "\n",
    "    def create_timelapse_s2(self, out_gif, start_year=2023, end_year=2023, bands=['Red', 'Green', 'Blue'], frequency='day', fps=1):\n",
    "        \"\"\"Creates a Sentinel-2 timelapse.\"\"\"\n",
    "        return geemap.sentinel2_timelapse(\n",
    "            self.roi,\n",
    "            out_gif=out_gif,\n",
    "            start_year=start_year,\n",
    "            bands=bands,\n",
    "            end_year=end_year,\n",
    "            start_date=\"01-01\",\n",
    "            apply_fmask=False,\n",
    "            end_date=\"12-31\",\n",
    "            frequency=frequency,\n",
    "            frames_per_second=fps,\n",
    "            title=f\"Sentinel-2 Timelapse - {self.location['city']}, {self.location['country']}\"\n",
    "        )\n",
    "\n",
    "# Usage example\n",
    "roi = ee.Geometry.BBox(117.1132, 3.5227, 117.2214, 3.5843)  # Define ROI\n",
    "timelapse_creator = SentinelTimelapse(roi)\n",
    "s1_gif_path = \"sentinel1.gif\"\n",
    "s2_gif_path = \"sentinel2.gif\"\n",
    "timelapse_creator.create_timelapse_s1(s1_gif_path)\n",
    "timelapse_creator.create_timelapse_s2(s2_gif_path)\n"
   ]
  },
  {
   "cell_type": "code",
   "execution_count": 37,
   "metadata": {},
   "outputs": [
    {
     "data": {
      "text/html": [
       "\n",
       "            <style>\n",
       "                .geemap-dark {\n",
       "                    --jp-widgets-color: white;\n",
       "                    --jp-widgets-label-color: white;\n",
       "                    --jp-ui-font-color1: white;\n",
       "                    --jp-layout-color2: #454545;\n",
       "                    background-color: #383838;\n",
       "                }\n",
       "\n",
       "                .geemap-dark .jupyter-button {\n",
       "                    --jp-layout-color3: #383838;\n",
       "                }\n",
       "\n",
       "                .geemap-colab {\n",
       "                    background-color: var(--colab-primary-surface-color, white);\n",
       "                }\n",
       "\n",
       "                .geemap-colab .jupyter-button {\n",
       "                    --jp-layout-color3: var(--colab-primary-surface-color, white);\n",
       "                }\n",
       "            </style>\n",
       "            "
      ],
      "text/plain": [
       "<IPython.core.display.HTML object>"
      ]
     },
     "metadata": {},
     "output_type": "display_data"
    },
    {
     "name": "stdout",
     "output_type": "stream",
     "text": [
      "Failed to set location due to: Geometry.centroid: Unable to perform this geometry operation. Please specify a non-zero error margin.\n",
      "Generating URL...\n",
      "Downloading GIF image from https://earthengine.googleapis.com/v1/projects/earthengine-legacy/videoThumbnails/b3d580edb56c1e87d3e987b1fae4a94b-0cc069abc510485c83dba6988eaab4d5:getPixels\n",
      "Please wait ...\n",
      "The GIF image has been saved to: c:\\Users\\brunolopez\\machineLearning\\geospatial\\multispectral\\sentinel1.gif\n",
      "Generating URL...\n",
      "Downloading GIF image from https://earthengine.googleapis.com/v1/projects/earthengine-legacy/videoThumbnails/0a5da0dbe69aed4507c6bb9019762130-ce68c6fe016263a8061890f6b1159a2e:getPixels\n",
      "Please wait ...\n",
      "The GIF image has been saved to: c:\\Users\\brunolopez\\machineLearning\\geospatial\\multispectral\\sentinel2.gif\n"
     ]
    },
    {
     "data": {
      "text/plain": [
       "'c:\\\\Users\\\\brunolopez\\\\machineLearning\\\\geospatial\\\\multispectral\\\\sentinel2.gif'"
      ]
     },
     "execution_count": 37,
     "metadata": {},
     "output_type": "execute_result"
    }
   ],
   "source": [
    "import ee\n",
    "import geemap\n",
    "import reverse_geocode\n",
    "\n",
    "ee.Initialize()\n",
    "\n",
    "class SentinelTimelapse:\n",
    "    def __init__(self, roi=None):\n",
    "        self.Map = geemap.Map()\n",
    "        if roi is None:\n",
    "            self.roi = ee.Geometry.BBox(117.1132, 3.5227, 117.2214, 3.5843)\n",
    "        else:\n",
    "            self.roi = roi\n",
    "\n",
    "        self.Map.addLayer(self.roi, {}, \"ROI\")\n",
    "        self.Map.centerObject(self.roi)\n",
    "        self.set_location()\n",
    "\n",
    "    def set_location(self):\n",
    "        try:\n",
    "            roi_center = self.roi.centroid().coordinates().getInfo()\n",
    "            roi_center = (roi_center[1], roi_center[0])  # Latitude, Longitude\n",
    "            self.location = reverse_geocode.search([roi_center])[0]\n",
    "            print(f\"Location set to {self.location}\")\n",
    "        except Exception as e:\n",
    "            self.location = {'city': 'Unknown', 'country': 'Unknown'}\n",
    "            print(f\"Failed to set location due to: {e}\")\n",
    "\n",
    "    def create_timelapse_s1(self, out_gif, start_year=2023, end_year=2023, frequency='day', fps=1):\n",
    "        \"\"\"Creates a Sentinel-1 timelapse.\"\"\"\n",
    "        return geemap.sentinel1_timelapse(\n",
    "            self.roi,\n",
    "            out_gif=out_gif,\n",
    "            start_year=start_year,\n",
    "            end_year=end_year,\n",
    "            start_date=\"01-01\",\n",
    "            end_date=\"12-31\",\n",
    "            frequency=frequency,\n",
    "            vis_params={\"min\": -30, \"max\": 0},\n",
    "            palette=\"Greys\",\n",
    "            frames_per_second=fps,\n",
    "            title=f\"Sentinel-1 Timelapse - {self.location['city']}, {self.location['country']}\",\n",
    "            add_colorbar=True,\n",
    "            colorbar_bg_color=\"gray\"\n",
    "        )\n",
    "\n",
    "    def create_timelapse_s2(self, out_gif, start_year=2023, end_year=2023, bands=['Red', 'Green', 'Blue'], frequency='day', fps=1):\n",
    "        \"\"\"Creates a Sentinel-2 timelapse.\"\"\"\n",
    "        return geemap.sentinel2_timelapse(\n",
    "            self.roi,\n",
    "            out_gif=out_gif,\n",
    "            start_year=start_year,\n",
    "            bands=bands,\n",
    "            end_year=end_year,\n",
    "            start_date=\"01-01\",\n",
    "            apply_fmask=False,\n",
    "            end_date=\"12-31\",\n",
    "            frequency=frequency,\n",
    "            frames_per_second=fps,\n",
    "            title=f\"Sentinel-2 Timelapse - {self.location['city']}, {self.location['country']}\"\n",
    "        )\n",
    "\n",
    "# Example usage\n",
    "timelapse_creator = SentinelTimelapse()\n",
    "s1_gif_path = \"sentinel1.gif\"\n",
    "s2_gif_path = \"sentinel2.gif\"\n",
    "timelapse_creator.create_timelapse_s1(s1_gif_path)\n",
    "timelapse_creator.create_timelapse_s2(s2_gif_path)\n"
   ]
  },
  {
   "cell_type": "code",
   "execution_count": 38,
   "metadata": {},
   "outputs": [
    {
     "data": {
      "text/html": [
       "\n",
       "            <style>\n",
       "                .geemap-dark {\n",
       "                    --jp-widgets-color: white;\n",
       "                    --jp-widgets-label-color: white;\n",
       "                    --jp-ui-font-color1: white;\n",
       "                    --jp-layout-color2: #454545;\n",
       "                    background-color: #383838;\n",
       "                }\n",
       "\n",
       "                .geemap-dark .jupyter-button {\n",
       "                    --jp-layout-color3: #383838;\n",
       "                }\n",
       "\n",
       "                .geemap-colab {\n",
       "                    background-color: var(--colab-primary-surface-color, white);\n",
       "                }\n",
       "\n",
       "                .geemap-colab .jupyter-button {\n",
       "                    --jp-layout-color3: var(--colab-primary-surface-color, white);\n",
       "                }\n",
       "            </style>\n",
       "            "
      ],
      "text/plain": [
       "<IPython.core.display.HTML object>"
      ]
     },
     "metadata": {},
     "output_type": "display_data"
    },
    {
     "name": "stdout",
     "output_type": "stream",
     "text": [
      "Location set to {'country_code': 'ID', 'city': 'Sesayap', 'country': 'Indonesia'}\n",
      "Generating URL...\n",
      "Downloading GIF image from https://earthengine.googleapis.com/v1/projects/earthengine-legacy/videoThumbnails/b3d580edb56c1e87d3e987b1fae4a94b-26d425ca55e748b88e5fb471e50a286e:getPixels\n",
      "Please wait ...\n",
      "The GIF image has been saved to: c:\\Users\\brunolopez\\machineLearning\\geospatial\\multispectral\\sentinel1.gif\n",
      "Generating URL...\n",
      "Downloading GIF image from https://earthengine.googleapis.com/v1/projects/earthengine-legacy/videoThumbnails/0a5da0dbe69aed4507c6bb9019762130-498eacf7f17db7a80c9d8dda000cec9f:getPixels\n",
      "Please wait ...\n",
      "The GIF image has been saved to: c:\\Users\\brunolopez\\machineLearning\\geospatial\\multispectral\\sentinel2.gif\n"
     ]
    },
    {
     "data": {
      "text/plain": [
       "'c:\\\\Users\\\\brunolopez\\\\machineLearning\\\\geospatial\\\\multispectral\\\\sentinel2.gif'"
      ]
     },
     "execution_count": 38,
     "metadata": {},
     "output_type": "execute_result"
    }
   ],
   "source": [
    "import ee\n",
    "import geemap\n",
    "import reverse_geocode\n",
    "\n",
    "ee.Initialize()\n",
    "\n",
    "class SentinelTimelapse:\n",
    "    def __init__(self, roi=None):\n",
    "        self.Map = geemap.Map()\n",
    "        if roi is None:\n",
    "            # Define a default bounding box if none provided\n",
    "            self.roi = ee.Geometry.BBox(117.1132, 3.5227, 117.2214, 3.5843)\n",
    "        else:\n",
    "            self.roi = roi\n",
    "\n",
    "        self.Map.addLayer(self.roi, {}, \"ROI\")\n",
    "        self.Map.centerObject(self.roi)\n",
    "        self.set_location()\n",
    "\n",
    "    def set_location(self):\n",
    "        try:\n",
    "            # Use coordinates directly from the BBox for reverse geocoding\n",
    "            coordinates = self.roi.centroid(1).coordinates().getInfo()  # adding error margin 1\n",
    "            coordinates = (coordinates[1], coordinates[0])  # Latitude, Longitude for reverse geocode\n",
    "            self.location = reverse_geocode.search([coordinates])[0]\n",
    "            print(f\"Location set to {self.location}\")\n",
    "        except Exception as e:\n",
    "            self.location = {'city': 'Unknown', 'country': 'Unknown'}\n",
    "            print(f\"Failed to set location due to: {e}\")\n",
    "\n",
    "    def create_timelapse_s1(self, out_gif, start_year=2023, end_year=2023, frequency='day', fps=1):\n",
    "        \"\"\"Creates a Sentinel-1 timelapse.\"\"\"\n",
    "        return geemap.sentinel1_timelapse(\n",
    "            self.roi,\n",
    "            out_gif=out_gif,\n",
    "            start_year=start_year,\n",
    "            end_year=end_year,\n",
    "            start_date=\"01-01\",\n",
    "            end_date=\"12-31\",\n",
    "            frequency=frequency,\n",
    "            vis_params={\"min\": -30, \"max\": 0},\n",
    "            palette=\"Greys\",\n",
    "            frames_per_second=fps,\n",
    "            title=f\"Sentinel-1 Timelapse - {self.location['city']}, {self.location['country']}\",\n",
    "            add_colorbar=True,\n",
    "            colorbar_bg_color=\"gray\"\n",
    "        )\n",
    "\n",
    "    def create_timelapse_s2(self, out_gif, start_year=2023, end_year=2023, bands=['Red', 'Green', 'Blue'], frequency='day', fps=1):\n",
    "        \"\"\"Creates a Sentinel-2 timelapse.\"\"\"\n",
    "        return geemap.sentinel2_timelapse(\n",
    "            self.roi,\n",
    "            out_gif=out_gif,\n",
    "            start_year=start_year,\n",
    "            bands=bands,\n",
    "            end_year=end_year,\n",
    "            start_date=\"01-01\",\n",
    "            apply_fmask=False,\n",
    "            end_date=\"12-31\",\n",
    "            frequency=frequency,\n",
    "            frames_per_second=fps,\n",
    "            title=f\"Sentinel-2 Timelapse - {self.location['city']}, {self.location['country']}\"\n",
    "        )\n",
    "\n",
    "# Example usage\n",
    "timelapse_creator = SentinelTimelapse()\n",
    "s1_gif_path = \"sentinel1.gif\"\n",
    "s2_gif_path = \"sentinel2.gif\"\n",
    "timelapse_creator.create_timelapse_s1(s1_gif_path)\n",
    "timelapse_creator.create_timelapse_s2(s2_gif_path)\n"
   ]
  },
  {
   "cell_type": "code",
   "execution_count": null,
   "metadata": {},
   "outputs": [],
   "source": [
    " "
   ]
  }
 ],
 "metadata": {
  "kernelspec": {
   "display_name": "geemap-env",
   "language": "python",
   "name": "python3"
  },
  "language_info": {
   "codemirror_mode": {
    "name": "ipython",
    "version": 3
   },
   "file_extension": ".py",
   "mimetype": "text/x-python",
   "name": "python",
   "nbconvert_exporter": "python",
   "pygments_lexer": "ipython3",
   "version": "3.11.9"
  }
 },
 "nbformat": 4,
 "nbformat_minor": 4
}
