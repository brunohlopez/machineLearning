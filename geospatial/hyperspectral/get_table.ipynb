{
 "cells": [
  {
   "cell_type": "code",
   "execution_count": 1,
   "metadata": {},
   "outputs": [
    {
     "name": "stderr",
     "output_type": "stream",
     "text": [
      "C:\\Users\\brunolopez\\AppData\\Local\\Temp\\ipykernel_27572\\410450388.py:1: DeprecationWarning: \n",
      "Pyarrow will become a required dependency of pandas in the next major release of pandas (pandas 3.0),\n",
      "(to allow more performant data types, such as the Arrow string type, and better interoperability with other libraries)\n",
      "but was not found to be installed on your system.\n",
      "If this would cause problems for you,\n",
      "please provide us feedback at https://github.com/pandas-dev/pandas/issues/54466\n",
      "        \n",
      "  import pandas as pd\n"
     ]
    }
   ],
   "source": [
    "import pandas as pd\n",
    "import numpy as np\n",
    "import os\n",
    "import urllib.request\n",
    "from urllib.error import HTTPError"
   ]
  },
  {
   "cell_type": "code",
   "execution_count": 2,
   "metadata": {},
   "outputs": [],
   "source": [
    "aviris_path_url = 'https://docs.google.com/spreadsheets/d/1g_yWgr4kwGPwVCDiFgCX3tZ9tAkxk-oDXxfqv5U4LeU/export?format=csv' \n",
    "\n",
    "aviris_table_output = r'C:\\Users\\brunolopez\\machineLearning\\geospatial\\hyperspectral\\data\\aviris_flights.csv'"
   ]
  },
  {
   "cell_type": "markdown",
   "metadata": {},
   "source": [
    "Downlaod the flightpath data and load it in as a csv"
   ]
  },
  {
   "cell_type": "code",
   "execution_count": 3,
   "metadata": {},
   "outputs": [
    {
     "data": {
      "text/plain": [
       "('C:\\\\Users\\\\brunolopez\\\\machineLearning\\\\geospatial\\\\hyperspectral\\\\data\\\\aviris_flights.csv',\n",
       " <http.client.HTTPMessage at 0x1a981e92b00>)"
      ]
     },
     "execution_count": 3,
     "metadata": {},
     "output_type": "execute_result"
    }
   ],
   "source": [
    "urllib.request.urlretrieve(aviris_path_url, aviris_table_output)"
   ]
  },
  {
   "cell_type": "markdown",
   "metadata": {},
   "source": [
    "Let's load in the flightpath information from the aviris website"
   ]
  },
  {
   "cell_type": "code",
   "execution_count": 4,
   "metadata": {},
   "outputs": [],
   "source": [
    "aviris_path_csv = pd.read_csv(aviris_table_output)"
   ]
  },
  {
   "cell_type": "code",
   "execution_count": 5,
   "metadata": {},
   "outputs": [
    {
     "data": {
      "text/html": [
       "<div>\n",
       "<style scoped>\n",
       "    .dataframe tbody tr th:only-of-type {\n",
       "        vertical-align: middle;\n",
       "    }\n",
       "\n",
       "    .dataframe tbody tr th {\n",
       "        vertical-align: top;\n",
       "    }\n",
       "\n",
       "    .dataframe thead th {\n",
       "        text-align: right;\n",
       "    }\n",
       "</style>\n",
       "<table border=\"1\" class=\"dataframe\">\n",
       "  <thead>\n",
       "    <tr style=\"text-align: right;\">\n",
       "      <th></th>\n",
       "      <th>Name</th>\n",
       "      <th>Site Name</th>\n",
       "      <th>NASA Log</th>\n",
       "      <th>Investigator</th>\n",
       "      <th>Comments</th>\n",
       "      <th>FlightScene</th>\n",
       "      <th>Date</th>\n",
       "      <th>RDN Ver</th>\n",
       "      <th>Scene</th>\n",
       "      <th>GEO Ver</th>\n",
       "      <th>...</th>\n",
       "      <th>Lon3</th>\n",
       "      <th>Lon4</th>\n",
       "      <th>Lat1</th>\n",
       "      <th>Lat2</th>\n",
       "      <th>Lat3</th>\n",
       "      <th>Lat4</th>\n",
       "      <th>kml_poly</th>\n",
       "      <th>HTML Link Radiance</th>\n",
       "      <th>HTML Link Reflectance</th>\n",
       "      <th>HTML Link CH4</th>\n",
       "    </tr>\n",
       "  </thead>\n",
       "  <tbody>\n",
       "    <tr>\n",
       "      <th>0</th>\n",
       "      <td>ang20140530t161002</td>\n",
       "      <td>Ivanpah Playa (FL160), CA</td>\n",
       "      <td>14T018</td>\n",
       "      <td>Robert Green</td>\n",
       "      <td>Alt = 10 kft&lt;br&gt;Clouds = Clear, low haze&lt;br&gt;SO...</td>\n",
       "      <td>ang20140530t161002</td>\n",
       "      <td>5/30/14</td>\n",
       "      <td>NaN</td>\n",
       "      <td>NaN</td>\n",
       "      <td>NaN</td>\n",
       "      <td>...</td>\n",
       "      <td>-115.386020</td>\n",
       "      <td>-115.404396</td>\n",
       "      <td>35.545961</td>\n",
       "      <td>35.545717</td>\n",
       "      <td>35.599179</td>\n",
       "      <td>35.599424</td>\n",
       "      <td>&lt;Polygon&gt;&lt;outerBoundaryIs&gt;&lt;coordinates&gt; -115.4...</td>\n",
       "      <td>&lt;b&gt;&lt;i&gt;&lt;font color='red'&gt;To request L1B or L2 d...</td>\n",
       "      <td>NaN</td>\n",
       "      <td>NaN</td>\n",
       "    </tr>\n",
       "    <tr>\n",
       "      <th>1</th>\n",
       "      <td>ang20140530t161827</td>\n",
       "      <td>Ivanpah Playa (FL160), CA</td>\n",
       "      <td>14T018</td>\n",
       "      <td>Robert Green</td>\n",
       "      <td>Alt = 10 kft&lt;br&gt;Clouds = Clear, low haze&lt;br&gt;SO...</td>\n",
       "      <td>ang20140530t161827</td>\n",
       "      <td>5/30/14</td>\n",
       "      <td>NaN</td>\n",
       "      <td>NaN</td>\n",
       "      <td>NaN</td>\n",
       "      <td>...</td>\n",
       "      <td>-115.385660</td>\n",
       "      <td>-115.404239</td>\n",
       "      <td>35.547215</td>\n",
       "      <td>35.546968</td>\n",
       "      <td>35.598482</td>\n",
       "      <td>35.598730</td>\n",
       "      <td>&lt;Polygon&gt;&lt;outerBoundaryIs&gt;&lt;coordinates&gt; -115.4...</td>\n",
       "      <td>&lt;b&gt;&lt;i&gt;&lt;font color='red'&gt;To request L1B or L2 d...</td>\n",
       "      <td>NaN</td>\n",
       "      <td>NaN</td>\n",
       "    </tr>\n",
       "    <tr>\n",
       "      <th>2</th>\n",
       "      <td>ang20140530t161827</td>\n",
       "      <td>Ivanpah Playa (FL160), CA</td>\n",
       "      <td>14T018</td>\n",
       "      <td>Robert Green</td>\n",
       "      <td>Alt = 10 kft&lt;br&gt;Clouds = Clear, low haze&lt;br&gt;SO...</td>\n",
       "      <td>ang20140530t161827</td>\n",
       "      <td>5/30/14</td>\n",
       "      <td>NaN</td>\n",
       "      <td>NaN</td>\n",
       "      <td>NaN</td>\n",
       "      <td>...</td>\n",
       "      <td>-115.385660</td>\n",
       "      <td>-115.404239</td>\n",
       "      <td>35.547215</td>\n",
       "      <td>35.546968</td>\n",
       "      <td>35.598482</td>\n",
       "      <td>35.598730</td>\n",
       "      <td>&lt;Polygon&gt;&lt;outerBoundaryIs&gt;&lt;coordinates&gt; -115.4...</td>\n",
       "      <td>&lt;b&gt;&lt;i&gt;&lt;font color='red'&gt;To request L1B or L2 d...</td>\n",
       "      <td>NaN</td>\n",
       "      <td>NaN</td>\n",
       "    </tr>\n",
       "    <tr>\n",
       "      <th>3</th>\n",
       "      <td>ang20140530t162534</td>\n",
       "      <td>Ivanpah Playa (FL160), CA</td>\n",
       "      <td>14T018</td>\n",
       "      <td>Robert Green</td>\n",
       "      <td>Alt = 10 kft&lt;br&gt;Clouds = Clear, low haze&lt;br&gt;SO...</td>\n",
       "      <td>ang20140530t162534</td>\n",
       "      <td>5/30/14</td>\n",
       "      <td>NaN</td>\n",
       "      <td>NaN</td>\n",
       "      <td>NaN</td>\n",
       "      <td>...</td>\n",
       "      <td>-115.385034</td>\n",
       "      <td>-115.404349</td>\n",
       "      <td>35.545168</td>\n",
       "      <td>35.544912</td>\n",
       "      <td>35.599017</td>\n",
       "      <td>35.599274</td>\n",
       "      <td>&lt;Polygon&gt;&lt;outerBoundaryIs&gt;&lt;coordinates&gt; -115.4...</td>\n",
       "      <td>&lt;b&gt;&lt;i&gt;&lt;font color='red'&gt;To request L1B or L2 d...</td>\n",
       "      <td>NaN</td>\n",
       "      <td>NaN</td>\n",
       "    </tr>\n",
       "    <tr>\n",
       "      <th>4</th>\n",
       "      <td>ang20140530t162954</td>\n",
       "      <td>Ivanpah Playa (FL160), CA (for flat field)</td>\n",
       "      <td>14T018</td>\n",
       "      <td>Robert Green</td>\n",
       "      <td>Alt = 10 kft&lt;br&gt;Clouds = Clear, low haze&lt;br&gt;SO...</td>\n",
       "      <td>ang20140530t162954</td>\n",
       "      <td>5/30/14</td>\n",
       "      <td>NaN</td>\n",
       "      <td>NaN</td>\n",
       "      <td>NaN</td>\n",
       "      <td>...</td>\n",
       "      <td>-115.381254</td>\n",
       "      <td>-115.404400</td>\n",
       "      <td>35.543575</td>\n",
       "      <td>35.543267</td>\n",
       "      <td>35.592003</td>\n",
       "      <td>35.592312</td>\n",
       "      <td>&lt;Polygon&gt;&lt;outerBoundaryIs&gt;&lt;coordinates&gt; -115.4...</td>\n",
       "      <td>&lt;b&gt;&lt;i&gt;&lt;font color='red'&gt;To request L1B or L2 d...</td>\n",
       "      <td>NaN</td>\n",
       "      <td>NaN</td>\n",
       "    </tr>\n",
       "  </tbody>\n",
       "</table>\n",
       "<p>5 rows × 52 columns</p>\n",
       "</div>"
      ],
      "text/plain": [
       "                 Name                                   Site Name NASA Log  \\\n",
       "0  ang20140530t161002                   Ivanpah Playa (FL160), CA   14T018   \n",
       "1  ang20140530t161827                   Ivanpah Playa (FL160), CA   14T018   \n",
       "2  ang20140530t161827                   Ivanpah Playa (FL160), CA   14T018   \n",
       "3  ang20140530t162534                   Ivanpah Playa (FL160), CA   14T018   \n",
       "4  ang20140530t162954  Ivanpah Playa (FL160), CA (for flat field)   14T018   \n",
       "\n",
       "   Investigator                                           Comments  \\\n",
       "0  Robert Green  Alt = 10 kft<br>Clouds = Clear, low haze<br>SO...   \n",
       "1  Robert Green  Alt = 10 kft<br>Clouds = Clear, low haze<br>SO...   \n",
       "2  Robert Green  Alt = 10 kft<br>Clouds = Clear, low haze<br>SO...   \n",
       "3  Robert Green  Alt = 10 kft<br>Clouds = Clear, low haze<br>SO...   \n",
       "4  Robert Green  Alt = 10 kft<br>Clouds = Clear, low haze<br>SO...   \n",
       "\n",
       "          FlightScene     Date  RDN Ver  Scene  GEO Ver  ...        Lon3  \\\n",
       "0  ang20140530t161002  5/30/14      NaN    NaN      NaN  ... -115.386020   \n",
       "1  ang20140530t161827  5/30/14      NaN    NaN      NaN  ... -115.385660   \n",
       "2  ang20140530t161827  5/30/14      NaN    NaN      NaN  ... -115.385660   \n",
       "3  ang20140530t162534  5/30/14      NaN    NaN      NaN  ... -115.385034   \n",
       "4  ang20140530t162954  5/30/14      NaN    NaN      NaN  ... -115.381254   \n",
       "\n",
       "         Lon4       Lat1       Lat2       Lat3       Lat4  \\\n",
       "0 -115.404396  35.545961  35.545717  35.599179  35.599424   \n",
       "1 -115.404239  35.547215  35.546968  35.598482  35.598730   \n",
       "2 -115.404239  35.547215  35.546968  35.598482  35.598730   \n",
       "3 -115.404349  35.545168  35.544912  35.599017  35.599274   \n",
       "4 -115.404400  35.543575  35.543267  35.592003  35.592312   \n",
       "\n",
       "                                            kml_poly  \\\n",
       "0  <Polygon><outerBoundaryIs><coordinates> -115.4...   \n",
       "1  <Polygon><outerBoundaryIs><coordinates> -115.4...   \n",
       "2  <Polygon><outerBoundaryIs><coordinates> -115.4...   \n",
       "3  <Polygon><outerBoundaryIs><coordinates> -115.4...   \n",
       "4  <Polygon><outerBoundaryIs><coordinates> -115.4...   \n",
       "\n",
       "                                  HTML Link Radiance  HTML Link Reflectance  \\\n",
       "0  <b><i><font color='red'>To request L1B or L2 d...                    NaN   \n",
       "1  <b><i><font color='red'>To request L1B or L2 d...                    NaN   \n",
       "2  <b><i><font color='red'>To request L1B or L2 d...                    NaN   \n",
       "3  <b><i><font color='red'>To request L1B or L2 d...                    NaN   \n",
       "4  <b><i><font color='red'>To request L1B or L2 d...                    NaN   \n",
       "\n",
       "   HTML Link CH4  \n",
       "0            NaN  \n",
       "1            NaN  \n",
       "2            NaN  \n",
       "3            NaN  \n",
       "4            NaN  \n",
       "\n",
       "[5 rows x 52 columns]"
      ]
     },
     "execution_count": 5,
     "metadata": {},
     "output_type": "execute_result"
    }
   ],
   "source": [
    "aviris_path_csv.head()"
   ]
  },
  {
   "cell_type": "code",
   "execution_count": 7,
   "metadata": {},
   "outputs": [
    {
     "data": {
      "text/plain": [
       "Index(['Name', 'Site Name', 'NASA Log', 'Investigator', 'Comments',\n",
       "       'FlightScene', 'Date', 'RDN Ver', 'Scene', 'GEO Ver', 'YY', 'Tape',\n",
       "       'Flight ID', 'Flight', 'Run', 'Year', 'Month', 'Day', 'UTC Hour',\n",
       "       'UTC Minute', 'Pixel Size', 'Rotation', 'Number of Lines',\n",
       "       'Number of Samples', 'Solar Elevation', 'Solar Azimuth',\n",
       "       'Mean Scene Elevation', 'Min Scene Elevation', 'Max Scene Elevation',\n",
       "       'File Size (GB)', 'Gzip File Size (GB)', 'File Size (Bytes)',\n",
       "       'Gzip File Size (Bytes)', 'Download Name', 'link_kml_overlay',\n",
       "       'link_kml_outline', 'link_rgb', 'link_rgb_small', 'link_ftp',\n",
       "       'link_log', 'Lon1', 'Lon2', 'Lon3', 'Lon4', 'Lat1', 'Lat2', 'Lat3',\n",
       "       'Lat4', 'kml_poly', 'HTML Link Radiance', 'HTML Link Reflectance',\n",
       "       'HTML Link CH4'],\n",
       "      dtype='object')"
      ]
     },
     "execution_count": 7,
     "metadata": {},
     "output_type": "execute_result"
    }
   ],
   "source": [
    "aviris_path_csv.columns"
   ]
  },
  {
   "cell_type": "code",
   "execution_count": 8,
   "metadata": {},
   "outputs": [
    {
     "data": {
      "text/plain": [
       "'http://avirisng.jpl.nasa.gov/aviris_locator/y14_KML/ang20140530t161002_outline_KML.kml'"
      ]
     },
     "execution_count": 8,
     "metadata": {},
     "output_type": "execute_result"
    }
   ],
   "source": [
    "first = aviris_path_csv['link_kml_outline'][0]\n",
    "first"
   ]
  },
  {
   "cell_type": "code",
   "execution_count": 9,
   "metadata": {},
   "outputs": [
    {
     "data": {
      "text/plain": [
       "'ang20140530t161002_outline_KML.kml'"
      ]
     },
     "execution_count": 9,
     "metadata": {},
     "output_type": "execute_result"
    }
   ],
   "source": [
    "second = first.split('/')[-1]\n",
    "second"
   ]
  },
  {
   "cell_type": "code",
   "execution_count": 10,
   "metadata": {},
   "outputs": [
    {
     "data": {
      "text/plain": [
       "['ang20140530t161002', 'outline', 'KML.kml']"
      ]
     },
     "execution_count": 10,
     "metadata": {},
     "output_type": "execute_result"
    }
   ],
   "source": [
    "third = second.split('_')\n",
    "third"
   ]
  },
  {
   "cell_type": "code",
   "execution_count": 11,
   "metadata": {},
   "outputs": [
    {
     "data": {
      "text/plain": [
       "'ang20140530t161002_KML.kml'"
      ]
     },
     "execution_count": 11,
     "metadata": {},
     "output_type": "execute_result"
    }
   ],
   "source": [
    "fourth = third[0] + '_' + third[-1]\n",
    "fourth"
   ]
  },
  {
   "cell_type": "code",
   "execution_count": 12,
   "metadata": {},
   "outputs": [
    {
     "data": {
      "text/plain": [
       "'/home/ubuntu/share/Team/Bruno/analytics-misc/aviris_web_scrape/aviris_kml/ang20140530t161002_KML.kml'"
      ]
     },
     "execution_count": 12,
     "metadata": {},
     "output_type": "execute_result"
    }
   ],
   "source": [
    "final = '/home/ubuntu/share/Team/Bruno/analytics-misc/aviris_web_scrape/aviris_kml' + '/' + 'ang20140530t161002_KML.kml'\n",
    "final"
   ]
  },
  {
   "cell_type": "code",
   "execution_count": 12,
   "metadata": {},
   "outputs": [
    {
     "data": {
      "text/plain": [
       "('/home/ubuntu/share/Team/Bruno/analytics-misc/aviris_web_scrape.test.kml',\n",
       " <http.client.HTTPMessage at 0x7f3b4792e760>)"
      ]
     },
     "execution_count": 12,
     "metadata": {},
     "output_type": "execute_result"
    }
   ],
   "source": [
    "urllib.request.urlretrieve(first, '/home/ubuntu/share/Team/Bruno/analytics-misc/aviris_web_scrape.test.kml')"
   ]
  },
  {
   "cell_type": "code",
   "execution_count": 13,
   "metadata": {},
   "outputs": [],
   "source": [
    "def download_aviris_kml(aviris_path_csv, out_kml_dir):\n",
    "\n",
    "    for i in range(len(aviris_path_csv)):\n",
    "        kml_link = aviris_path_csv['link_kml_outline'][i]\n",
    "        #keep only the name of the file\n",
    "        remove_slashes = kml_link.split('/')[-1]\n",
    "        seperate_aviris_name = remove_slashes.split('_')\n",
    "        output_name = seperate_aviris_name[0] + '_' + seperate_aviris_name[-1]\n",
    "\n",
    "        final_output_name = out_kml_dir + '/' + output_name\n",
    "\n",
    "        try:\n",
    "            urllib.request.urlretrieve(kml_link, final_output_name)\n",
    "        except HTTPError as err:\n",
    "            if err.code == 404:\n",
    "                continue\n",
    "    \n",
    "\n",
    "#TODO : A check if the file already exists to not download it again\n",
    "\n"
   ]
  },
  {
   "cell_type": "code",
   "execution_count": 14,
   "metadata": {},
   "outputs": [
    {
     "ename": "ModuleNotFoundError",
     "evalue": "No module named 'requests'",
     "output_type": "error",
     "traceback": [
      "\u001b[1;31m---------------------------------------------------------------------------\u001b[0m",
      "\u001b[1;31mModuleNotFoundError\u001b[0m                       Traceback (most recent call last)",
      "Cell \u001b[1;32mIn[14], line 1\u001b[0m\n\u001b[1;32m----> 1\u001b[0m \u001b[38;5;28;01mimport\u001b[39;00m \u001b[38;5;21;01mrequests\u001b[39;00m\n\u001b[0;32m      2\u001b[0m \u001b[38;5;28;01mfrom\u001b[39;00m \u001b[38;5;21;01mconcurrent\u001b[39;00m\u001b[38;5;21;01m.\u001b[39;00m\u001b[38;5;21;01mfutures\u001b[39;00m \u001b[38;5;28;01mimport\u001b[39;00m ThreadPoolExecutor\n\u001b[0;32m      3\u001b[0m \u001b[38;5;28;01mfrom\u001b[39;00m \u001b[38;5;21;01mpathlib\u001b[39;00m \u001b[38;5;28;01mimport\u001b[39;00m Path\n",
      "\u001b[1;31mModuleNotFoundError\u001b[0m: No module named 'requests'"
     ]
    }
   ],
   "source": [
    "import requests\n",
    "from concurrent.futures import ThreadPoolExecutor\n",
    "from pathlib import Path\n",
    "\n",
    "def download_aviris_kml(aviris_path_csv, out_kml_dir):\n",
    "    def download_kml(row):\n",
    "        kml_link = row['link_kml_outline']\n",
    "        if pd.isna(kml_link):\n",
    "            return  # Skip if the link is NaN\n",
    "        output_name = f\"{row['Name']}_{row['FlightScene']}.kml\"\n",
    "        final_output_path = Path(out_kml_dir) / output_name\n",
    "\n",
    "        try:\n",
    "            response = requests.get(kml_link)\n",
    "            response.raise_for_status()  # Will raise an exception for HTTP errors\n",
    "            with open(final_output_path, 'wb') as file:\n",
    "                file.write(response.content)\n",
    "        except requests.exceptions.HTTPError as err:\n",
    "            print(f\"HTTP Error for {kml_link}: {err}\")\n",
    "        except requests.exceptions.RequestException as err:\n",
    "            print(f\"Request Exception for {kml_link}: {err}\")\n",
    "\n",
    "    # Using ThreadPoolExecutor to download files in parallel\n",
    "    with ThreadPoolExecutor(max_workers=5) as executor:\n",
    "        executor.map(download_kml, aviris_path_csv.itertuples(index=False))\n",
    "\n",
    "# Usage\n",
    "# Assume aviris_path_df is a DataFrame loaded from your CSV\n",
    "download_aviris_kml(aviris_path_csv, r'C:\\Users\\brunolopez\\mldata\\aviris_kml')\n"
   ]
  },
  {
   "cell_type": "code",
   "execution_count": 14,
   "metadata": {},
   "outputs": [],
   "source": [
    "download_aviris_kml(aviris_path_csv, '/home/ubuntu/share/Data/external/aviris/flight_kml')"
   ]
  },
  {
   "cell_type": "code",
   "execution_count": null,
   "metadata": {},
   "outputs": [],
   "source": [
    "#run time as around 33 mins and 45.2 seconds for all of the kml files from aviris"
   ]
  }
 ],
 "metadata": {
  "kernelspec": {
   "display_name": "Python 3.9.7 ('aviris_scrape')",
   "language": "python",
   "name": "python3"
  },
  "language_info": {
   "codemirror_mode": {
    "name": "ipython",
    "version": 3
   },
   "file_extension": ".py",
   "mimetype": "text/x-python",
   "name": "python",
   "nbconvert_exporter": "python",
   "pygments_lexer": "ipython3",
   "version": "3.10.13"
  },
  "orig_nbformat": 4,
  "vscode": {
   "interpreter": {
    "hash": "564da39d5e13ed6e9b6ef3e2510732f7c07dfbcd2e973a5048ae0a05ca7de70b"
   }
  }
 },
 "nbformat": 4,
 "nbformat_minor": 2
}
