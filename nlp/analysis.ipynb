{
 "cells": [
  {
   "cell_type": "code",
   "execution_count": 1,
   "metadata": {},
   "outputs": [
    {
     "name": "stderr",
     "output_type": "stream",
     "text": [
      "c:\\Users\\brunolopez\\anaconda3\\envs\\nlp\\lib\\site-packages\\tqdm\\auto.py:21: TqdmWarning: IProgress not found. Please update jupyter and ipywidgets. See https://ipywidgets.readthedocs.io/en/stable/user_install.html\n",
      "  from .autonotebook import tqdm as notebook_tqdm\n"
     ]
    }
   ],
   "source": [
    "from transformers import BartForConditionalGeneration, BartTokenizer\n",
    "from collections import defaultdict\n",
    "from typing import List, Dict, Tuple\n",
    "import torch\n"
   ]
  },
  {
   "cell_type": "code",
   "execution_count": 2,
   "metadata": {},
   "outputs": [
    {
     "name": "stdout",
     "output_type": "stream",
     "text": [
      "True\n",
      "NVIDIA GeForce RTX 3060\n"
     ]
    }
   ],
   "source": [
    "# Check if CUDA (GPU support) is available\n",
    "print(torch.cuda.is_available())\n",
    "\n",
    "# Get the name of the GPU\n",
    "print(torch.cuda.get_device_name(0))\n"
   ]
  },
  {
   "cell_type": "code",
   "execution_count": 16,
   "metadata": {},
   "outputs": [],
   "source": [
    "from transformers import BartForConditionalGeneration, BartTokenizer\n",
    "import torch\n",
    "\n",
    "class NoteSummarizer:\n",
    "    def __init__(self, notes):\n",
    "        self.notes = notes\n",
    "        self.tokenizer = BartTokenizer.from_pretrained('facebook/bart-large-cnn')\n",
    "        self.model = BartForConditionalGeneration.from_pretrained('facebook/bart-large-cnn')\n",
    "\n",
    "    def process(self):\n",
    "        summaries = {}\n",
    "        grouped_notes = self.group_by_caseID()\n",
    "        for caseID, notes_text in grouped_notes.items():\n",
    "            summaries[caseID] = self.summarize_notes(notes_text)\n",
    "        return summaries\n",
    "\n",
    "    def group_by_caseID(self):\n",
    "        grouped_notes = {}\n",
    "        for note in self.notes:\n",
    "            caseID = note['caseID']\n",
    "            text = note['text']\n",
    "            if caseID not in grouped_notes:\n",
    "                grouped_notes[caseID] = text\n",
    "            else:\n",
    "                grouped_notes[caseID] += ' ' + text  # Space is added to separate the text of different notes\n",
    "        return grouped_notes\n",
    "\n",
    "    def summarize_notes(self, notes_text):\n",
    "        inputs = self.tokenizer([notes_text], max_length=1024, return_tensors='pt', truncation=True)\n",
    "        summary_ids = self.model.generate(inputs.input_ids, num_beams=4, min_length=30, max_length=250, length_penalty=2.0)\n",
    "        summary = self.tokenizer.decode(summary_ids[0], skip_special_tokens=True)\n",
    "        return summary\n",
    "\n",
    "\n",
    "dummy_notes = [\n",
    "    {'date': '2023-10-01', 'caseID': '1', 'text': 'Initial inspection of solar PV system at Site A completed. No issues found with the PV modules or inverters.'},\n",
    "    {'date': '2023-10-02', 'caseID': '1', 'text': 'Data logger setup completed at Site A. Now collecting data at 15-minute intervals. Battery storage system is operational.'},\n",
    "    {'date': '2023-10-03', 'caseID': '1', 'text': 'Zero power event observed at Site A at 2:15 PM. Troubleshooting initiated to identify the cause.'},\n",
    "    {'date': '2023-10-04', 'caseID': '1', 'text': 'Faulty connection found and fixed at Site A. System back online with all modules operational.'},\n",
    "    \n",
    "    {'date': '2023-10-01', 'caseID': '2', 'text': 'PV system installation at Site B commenced. Inverter and modules delivered. Ground mounting system installation underway.'},\n",
    "    {'date': '2023-10-02', 'caseID': '2', 'text': 'Inverter setup completed at Site B. Initial testing underway. DC wiring inspection scheduled.'},\n",
    "    {'date': '2023-10-03', 'caseID': '2', 'text': 'Mismatch observed in module string 3 at Site B. Reconfiguration needed to ensure optimal performance.'},\n",
    "    {'date': '2023-10-04', 'caseID': '2', 'text': 'System at Site B now operational. Data collection initiated. Performance monitoring system setup completed.'},\n",
    "    \n",
    "    {'date': '2023-10-01', 'caseID': '3', 'text': 'Monitoring system reported underperformance at Site C. Visual inspection scheduled for tomorrow.'},\n",
    "    {'date': '2023-10-02', 'caseID': '3', 'text': 'Site C visit completed. Shading issues identified due to nearby structures. Tree trimming recommended.'},\n",
    "    {'date': '2023-10-03', 'caseID': '3', 'text': 'Tree trimming completed at Site C. Performance expected to improve. Data analysis ongoing.'},\n",
    "    {'date': '2023-10-04', 'caseID': '3', 'text': 'Performance at Site C back to expected levels post tree trimming. Monitoring continues for any further issues.'},\n",
    "    \n",
    "    {'date': '2023-10-01', 'caseID': '4', 'text': 'New PV module technology discussion initiated for upcoming projects. Vendor meetings scheduled.'},\n",
    "    {'date': '2023-10-02', 'caseID': '4', 'text': 'Comparative analysis of bifacial vs monofacial modules underway. Cost, performance, and longevity considered.'},\n",
    "    {'date': '2023-10-03', 'caseID': '4', 'text': 'Cost-benefit analysis favors bifacial modules for next project. Procurement team informed of decision.'},\n",
    "    {'date': '2023-10-04', 'caseID': '4', 'text': 'Vendor selected for supplying bifacial modules for next project. Contract negotiations initiated.'},\n",
    "    \n",
    "    {'date': '2023-10-01', 'caseID': '5', 'text': 'Maintenance team reported a fault in the inverter at Site D. Immediate action required.'},\n",
    "    {'date': '2023-10-02', 'caseID': '5', 'text': 'Inverter replaced at Site D. System back online. Data loss during downtime is being evaluated.'},\n",
    "    {'date': '2023-10-03', 'caseID': '5', 'text': 'Data recovery efforts at Site D ongoing. Performance analysis post inverter replacement scheduled.'},\n",
    "    {'date': '2023-10-04', 'caseID': '5', 'text': 'Performance at Site D stable post inverter replacement. Data recovery completed. Loss minimal.'},\n",
    "    \n",
    "    {'date': '2023-10-01', 'caseID': 'PM1', 'text': 'Preventative Maintenance scheduled at Site A. Checklist prepared for routine inspection.'},\n",
    "    {'date': '2023-10-02', 'caseID': 'PM1', 'text': 'PM completed at Site A. All systems operational. No issues found.'},\n",
    "    {'date': '2023-10-03', 'caseID': 'PM1', 'text': 'PM report filed for Site A. Next PM scheduled in 6 months.'},\n",
    "    \n",
    "    {'date': '2023-10-01', 'caseID': 'PM2', 'text': 'Preventative Maintenance scheduled at Site B. Equipment list reviewed.'},\n",
    "    {'date': '2023-10-02', 'caseID': 'PM2', 'text': 'PM completed at Site B. Minor adjustments made to the tracking system.'},\n",
    "    {'date': '2023-10-03', 'caseID': 'PM2', 'text': 'PM report filed for Site B. Tracking system performance monitored.'},\n",
    "    \n",
    "    {'date': '2023-10-01', 'caseID': 'random', 'text': 'The quick brown fox jumps over the lazy dog.'},\n",
    "    {'date': '2023-10-02', 'caseID': 'random', 'text': 'Lorem ipsum dolor sit amet, consectetur adipiscing elit.'},\n",
    "    {'date': '2023-10-03', 'caseID': 'random', 'text': 'A journey '}\n",
    "]"
   ]
  },
  {
   "cell_type": "code",
   "execution_count": 17,
   "metadata": {},
   "outputs": [
    {
     "name": "stdout",
     "output_type": "stream",
     "text": [
      "{'1': 'Initial inspection of solar PV system at Site A completed. No issues found with the PV modules or inverters. Faulty connection found and fixed. System back online with all modules operational.', '2': 'PV system installation at Site B commenced. Inverter and modules delivered. Ground mounting system installation underway. Initial testing underway. DC wiring inspection scheduled. Mismatch observed in module string 3.', '3': 'Monitoring system reported underperformance at Site C. Site C visit completed. Shading issues identified due to nearby structures. Tree trimming recommended.', '4': 'New PV module technology discussion initiated for upcoming projects. Comparative analysis of bifacial vs monofacial modules underway. Cost, performance, and longevity considered. Procurement team informed of decision.', '5': 'Maintenance team reported a fault in the inverter at Site D. Immediate action required. Inverter replaced atSite D. System back online. Data loss during downtime being evaluated.', 'PM1': 'Preventative Maintenance scheduled at Site A. Checklist prepared for routine inspection. All systems operational. No issues found. Next PM scheduled in 6 months.', 'PM2': 'Preventative Maintenance scheduled at Site B. Equipment list reviewed. Minor adjustments made to the tracking system. Tracking system performance monitored. PM report filed forSite B.', 'random': 'The quick brown fox jumps over the lazy dog. Lorem ipsum dolor sit amet, consectetur adipiscing elit.'}\n"
     ]
    }
   ],
   "source": [
    "# Usage:\n",
    "summarizer = NoteSummarizer(dummy_notes)\n",
    "summaries = summarizer.process()\n",
    "print(summaries)"
   ]
  },
  {
   "cell_type": "code",
   "execution_count": null,
   "metadata": {},
   "outputs": [],
   "source": []
  }
 ],
 "metadata": {
  "kernelspec": {
   "display_name": "nlp",
   "language": "python",
   "name": "python3"
  },
  "language_info": {
   "codemirror_mode": {
    "name": "ipython",
    "version": 3
   },
   "file_extension": ".py",
   "mimetype": "text/x-python",
   "name": "python",
   "nbconvert_exporter": "python",
   "pygments_lexer": "ipython3",
   "version": "3.9.18"
  },
  "orig_nbformat": 4
 },
 "nbformat": 4,
 "nbformat_minor": 2
}
