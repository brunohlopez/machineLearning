{
 "cells": [
  {
   "cell_type": "code",
   "execution_count": 3,
   "metadata": {},
   "outputs": [],
   "source": [
    "import os\n",
    "import cv2 #pip install opencv-[ython]\n",
    "import pandas as pd\n",
    "import numpy as np\n",
    "from os import listdir\n",
    "from os.path import isfile, join"
   ]
  },
  {
   "cell_type": "markdown",
   "metadata": {},
   "source": [
    "Welcome, today I am going to try and classify some images I found on kaggle to Identify landscape"
   ]
  },
  {
   "attachments": {},
   "cell_type": "markdown",
   "metadata": {},
   "source": [
    "If you wish to follow along you can download the data here\n",
    "\n",
    "https://www.kaggle.com/datasets/utkarshsaxenadn/landscape-recognition-image-dataset-12k-images"
   ]
  },
  {
   "attachments": {},
   "cell_type": "markdown",
   "metadata": {},
   "source": [
    "## Section 1: Looking at Training Images"
   ]
  },
  {
   "cell_type": "code",
   "execution_count": 5,
   "metadata": {},
   "outputs": [],
   "source": [
    "training_path = r'C:\\Users\\brunolopez\\mldata\\landscape_recognition\\Landscape Classification\\Landscape Classification\\Training Data'\n",
    "testing_path = r'C:\\Users\\brunolopez\\mldata\\landscape_recognition\\Landscape Classification\\Landscape Classification\\Testing Data'\n",
    "val_path = r'C:\\Users\\brunolopez\\mldata\\landscape_recognition\\Landscape Classification\\Landscape Classification\\Validation Data'"
   ]
  },
  {
   "cell_type": "code",
   "execution_count": null,
   "metadata": {},
   "outputs": [],
   "source": [
    "#Also a list of the file categories\n"
   ]
  },
  {
   "attachments": {},
   "cell_type": "markdown",
   "metadata": {},
   "source": [
    "I am going to add a few helper functions that will make this task easier\n"
   ]
  },
  {
   "cell_type": "code",
   "execution_count": 13,
   "metadata": {},
   "outputs": [
    {
     "data": {
      "text/plain": [
       "['Coast', 'Desert', 'Forest', 'Glacier', 'Mountain']"
      ]
     },
     "execution_count": 13,
     "metadata": {},
     "output_type": "execute_result"
    }
   ],
   "source": [
    "directories = os.listdir(training_path)\n",
    "directories"
   ]
  },
  {
   "attachments": {},
   "cell_type": "markdown",
   "metadata": {},
   "source": [
    "A couple of helper functions"
   ]
  },
  {
   "cell_type": "code",
   "execution_count": 19,
   "metadata": {},
   "outputs": [],
   "source": [
    "def combo_list_dir():\n",
    "\n",
    "    '''\n",
    "    Helper function:\n",
    "    List all of the files and subdirectories 3 x 5 = 15 total\n",
    "    \n",
    "    '''\n",
    "\n",
    "    all_dir = []\n",
    "\n",
    "    list_paths = [training_path, testing_path, val_path]\n",
    "\n",
    "    for i in list_paths:\n",
    "        for j in directories:\n",
    "            all_dir.append(i + '\\\\' + j)\n",
    "            print(i + '\\\\' + j)\n",
    "\n",
    "    return all_dir\n",
    "\n",
    "def list_files(dir_list):\n",
    "    '''\n",
    "    List all of the individual images inside of the subdirectories\n",
    "    \n",
    "    '''\n",
    "\n",
    "    all_files = []\n",
    "\n",
    "    for subdir in dir_list:\n",
    "        onlyfiles = [f for f in listdir(subdir) if isfile(join(subdir, f))]\n",
    "        all_files.append(onlyfiles)\n",
    "        print(onlyfiles)\n",
    "\n",
    "    return all_files\n",
    "    \n",
    "\n",
    "\n"
   ]
  },
  {
   "cell_type": "code",
   "execution_count": 20,
   "metadata": {},
   "outputs": [
    {
     "name": "stdout",
     "output_type": "stream",
     "text": [
      "C:\\Users\\brunolopez\\mldata\\landscape_recognition\\Landscape Classification\\Landscape Classification\\Training Data\\Coast\n",
      "C:\\Users\\brunolopez\\mldata\\landscape_recognition\\Landscape Classification\\Landscape Classification\\Training Data\\Desert\n",
      "C:\\Users\\brunolopez\\mldata\\landscape_recognition\\Landscape Classification\\Landscape Classification\\Training Data\\Forest\n",
      "C:\\Users\\brunolopez\\mldata\\landscape_recognition\\Landscape Classification\\Landscape Classification\\Training Data\\Glacier\n",
      "C:\\Users\\brunolopez\\mldata\\landscape_recognition\\Landscape Classification\\Landscape Classification\\Training Data\\Mountain\n",
      "C:\\Users\\brunolopez\\mldata\\landscape_recognition\\Landscape Classification\\Landscape Classification\\Testing Data\\Coast\n",
      "C:\\Users\\brunolopez\\mldata\\landscape_recognition\\Landscape Classification\\Landscape Classification\\Testing Data\\Desert\n",
      "C:\\Users\\brunolopez\\mldata\\landscape_recognition\\Landscape Classification\\Landscape Classification\\Testing Data\\Forest\n",
      "C:\\Users\\brunolopez\\mldata\\landscape_recognition\\Landscape Classification\\Landscape Classification\\Testing Data\\Glacier\n",
      "C:\\Users\\brunolopez\\mldata\\landscape_recognition\\Landscape Classification\\Landscape Classification\\Testing Data\\Mountain\n",
      "C:\\Users\\brunolopez\\mldata\\landscape_recognition\\Landscape Classification\\Landscape Classification\\Validation Data\\Coast\n",
      "C:\\Users\\brunolopez\\mldata\\landscape_recognition\\Landscape Classification\\Landscape Classification\\Validation Data\\Desert\n",
      "C:\\Users\\brunolopez\\mldata\\landscape_recognition\\Landscape Classification\\Landscape Classification\\Validation Data\\Forest\n",
      "C:\\Users\\brunolopez\\mldata\\landscape_recognition\\Landscape Classification\\Landscape Classification\\Validation Data\\Glacier\n",
      "C:\\Users\\brunolopez\\mldata\\landscape_recognition\\Landscape Classification\\Landscape Classification\\Validation Data\\Mountain\n"
     ]
    }
   ],
   "source": [
    "test = combo_list_dir()"
   ]
  },
  {
   "cell_type": "code",
   "execution_count": null,
   "metadata": {},
   "outputs": [],
   "source": []
  }
 ],
 "metadata": {
  "kernelspec": {
   "display_name": "mllearn",
   "language": "python",
   "name": "python3"
  },
  "language_info": {
   "codemirror_mode": {
    "name": "ipython",
    "version": 3
   },
   "file_extension": ".py",
   "mimetype": "text/x-python",
   "name": "python",
   "nbconvert_exporter": "python",
   "pygments_lexer": "ipython3",
   "version": "3.9.15"
  },
  "orig_nbformat": 4,
  "vscode": {
   "interpreter": {
    "hash": "02db7a3dcf4179c489456eb94e21388baeb50aaaca548f620f0ca724e91cd834"
   }
  }
 },
 "nbformat": 4,
 "nbformat_minor": 2
}
